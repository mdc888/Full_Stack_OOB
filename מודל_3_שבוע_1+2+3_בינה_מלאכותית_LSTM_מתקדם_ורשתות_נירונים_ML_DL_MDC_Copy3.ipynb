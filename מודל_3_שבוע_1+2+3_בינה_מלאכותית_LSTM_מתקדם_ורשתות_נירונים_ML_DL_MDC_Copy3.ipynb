{
  "cells": [
    {
      "cell_type": "markdown",
      "metadata": {
        "id": "view-in-github",
        "colab_type": "text"
      },
      "source": [
        "<a href=\"https://colab.research.google.com/github/mdc888/Full_Stack_OOB/blob/main/%D7%9E%D7%95%D7%93%D7%9C_3_%D7%A9%D7%91%D7%95%D7%A2_1%2B2%2B3_%D7%91%D7%99%D7%A0%D7%94_%D7%9E%D7%9C%D7%90%D7%9B%D7%95%D7%AA%D7%99%D7%AA_LSTM_%D7%9E%D7%AA%D7%A7%D7%93%D7%9D_%D7%95%D7%A8%D7%A9%D7%AA%D7%95%D7%AA_%D7%A0%D7%99%D7%A8%D7%95%D7%A0%D7%99%D7%9D_ML_DL_MDC_Copy3.ipynb\" target=\"_parent\"><img src=\"https://colab.research.google.com/assets/colab-badge.svg\" alt=\"Open In Colab\"/></a>"
      ]
    },
    {
      "cell_type": "markdown",
      "metadata": {
        "id": "4dJxhfopJ8tS"
      },
      "source": [
        "הכלים של DATASCINCE                      Artificial intelligence      -    Machine Learning     - Deep Learning\n",
        "PYTHON\n",
        "PANDAS    יכולת לנתח את הנתונים- \n",
        "SKLEARN   נבנה את המודל\n",
        "TF  TENSFLOW   של דייפ ליירנינג DL משמש אותנו לבנות מודלים"
      ]
    },
    {
      "cell_type": "markdown",
      "metadata": {
        "id": "XhZm-S8hJ8tV"
      },
      "source": [
        "What is classification\n",
        "How do we (Humans) do it?\n",
        "https://github.com/scikit-learn/scikit-learn\n",
        "How to make machine learning do it     \n",
        "# סיווג לימוד מכונה"
      ]
    },
    {
      "cell_type": "code",
      "execution_count": null,
      "metadata": {
        "id": "KfuqBeFZJ8tV"
      },
      "outputs": [],
      "source": [
        "pip install -U scikit-learn"
      ]
    },
    {
      "cell_type": "code",
      "execution_count": null,
      "metadata": {
        "id": "bWuYuN4WJ8tW"
      },
      "outputs": [],
      "source": [
        "#pip install scikit-learn"
      ]
    },
    {
      "cell_type": "code",
      "execution_count": null,
      "metadata": {
        "scrolled": true,
        "id": "t0SLOArhJ8tW"
      },
      "outputs": [],
      "source": [
        "#pip install sklearn"
      ]
    },
    {
      "cell_type": "code",
      "execution_count": null,
      "metadata": {
        "id": "pzpak-31J8tW"
      },
      "outputs": [],
      "source": [
        "from sklearn import datasets\n",
        "import pandas as pd"
      ]
    },
    {
      "cell_type": "code",
      "execution_count": null,
      "metadata": {
        "id": "Zh1LqRYxJ8tW"
      },
      "outputs": [],
      "source": [
        "iris = datasets.load_iris()"
      ]
    },
    {
      "cell_type": "code",
      "execution_count": null,
      "metadata": {
        "id": "T_xpx-sjJ8tX"
      },
      "outputs": [],
      "source": [
        "df = pd.DataFrame(iris.data)\n",
        "df.columns = iris.feature_names\n",
        "X = df\n",
        "y = iris.target"
      ]
    },
    {
      "cell_type": "code",
      "execution_count": null,
      "metadata": {
        "id": "UqTSF3SEJ8tX"
      },
      "outputs": [],
      "source": [
        "iris.target_names"
      ]
    },
    {
      "cell_type": "code",
      "execution_count": null,
      "metadata": {
        "id": "kWsIe-XGJ8tX"
      },
      "outputs": [],
      "source": [
        "df = pd.DataFrame(iris.data)\n",
        "df.columns = iris.feature_names\n",
        "df"
      ]
    },
    {
      "cell_type": "code",
      "execution_count": null,
      "metadata": {
        "id": "BpdAHh_qJ8tX"
      },
      "outputs": [],
      "source": [
        "df = pd.DataFrame(iris.data)\n",
        "df.columns = iris.feature_names\n",
        "X = df\n",
        "y = iris.target\n",
        "df"
      ]
    },
    {
      "cell_type": "code",
      "execution_count": null,
      "metadata": {
        "id": "sU1noXA7J8tX"
      },
      "outputs": [],
      "source": [
        "X"
      ]
    },
    {
      "cell_type": "code",
      "execution_count": null,
      "metadata": {
        "id": "IvCwL8ngJ8tY"
      },
      "outputs": [],
      "source": [
        "y"
      ]
    },
    {
      "cell_type": "code",
      "execution_count": null,
      "metadata": {
        "id": "8BY8k6V8J8tY"
      },
      "outputs": [],
      "source": [
        "y = iris.target"
      ]
    },
    {
      "cell_type": "code",
      "execution_count": null,
      "metadata": {
        "id": "Y3lcEU5GJ8tY"
      },
      "outputs": [],
      "source": [
        "df = pd.DataFrame(iris.data)\n",
        "df.columns = iris.feature_names\n",
        "X = df\n",
        "y = iris.target"
      ]
    },
    {
      "cell_type": "code",
      "execution_count": null,
      "metadata": {
        "id": "pTMvZMejJ8tY"
      },
      "outputs": [],
      "source": [
        "from sklearn import datasets\n",
        "import pandas as pd"
      ]
    },
    {
      "cell_type": "code",
      "execution_count": null,
      "metadata": {
        "id": "sjKrOB21J8tY"
      },
      "outputs": [],
      "source": [
        "iris = datasets.load_iris()"
      ]
    },
    {
      "cell_type": "code",
      "execution_count": null,
      "metadata": {
        "id": "dGUxL2ixJ8tY"
      },
      "outputs": [],
      "source": [
        "df = pd.DataFrame(iris.data)\n",
        "df.columns = iris.feature_names\n",
        "X = df\n",
        "y = iris.target"
      ]
    },
    {
      "cell_type": "code",
      "execution_count": null,
      "metadata": {
        "id": "etcWv_XaJ8tY"
      },
      "outputs": [],
      "source": [
        "X.iloc[0]"
      ]
    },
    {
      "cell_type": "code",
      "execution_count": null,
      "metadata": {
        "id": "b68j6InlJ8tY"
      },
      "outputs": [],
      "source": [
        "X.iloc[100]"
      ]
    },
    {
      "cell_type": "code",
      "execution_count": null,
      "metadata": {
        "scrolled": true,
        "id": "J1iLioAvJ8tY"
      },
      "outputs": [],
      "source": [
        "y"
      ]
    },
    {
      "cell_type": "code",
      "execution_count": null,
      "metadata": {
        "id": "ZiHkoUSrJ8tY"
      },
      "outputs": [],
      "source": [
        "from sklearn.ensemble import RandomForestClassifier\n",
        "\n",
        "clf = RandomForestClassifier()\n",
        "clf.fit(X,y)"
      ]
    },
    {
      "cell_type": "code",
      "execution_count": null,
      "metadata": {
        "id": "ikXStFUoJ8tZ"
      },
      "outputs": [],
      "source": [
        "from sklearn.ensemble import RandomForestClassifier\n",
        "\n",
        "clf = RandomForestClassifier()\n",
        "clf.fit(X,y)\n",
        "y_pred = clf.predict(X)"
      ]
    },
    {
      "cell_type": "code",
      "execution_count": null,
      "metadata": {
        "id": "h7BFJ0ceJ8tZ"
      },
      "outputs": [],
      "source": [
        "df['y_actual'] = y\n",
        "df['y_pred'] = y_pred"
      ]
    },
    {
      "cell_type": "code",
      "execution_count": null,
      "metadata": {
        "id": "S_3lRFIiJ8tZ"
      },
      "outputs": [],
      "source": [
        "df"
      ]
    },
    {
      "cell_type": "code",
      "execution_count": null,
      "metadata": {
        "id": "Ph-MLHlTJ8tZ"
      },
      "outputs": [],
      "source": [
        "df[df['y_actual'] != df['y_pred'] ]"
      ]
    },
    {
      "cell_type": "code",
      "execution_count": null,
      "metadata": {
        "id": "CYCXQey7J8tZ"
      },
      "outputs": [],
      "source": [
        "from sklearn.model_selection import train_test_split\n",
        "\n",
        "X_train, X_test, y_train, y_test = train_test_split(X, y, test_size=0.1)"
      ]
    },
    {
      "cell_type": "code",
      "execution_count": null,
      "metadata": {
        "id": "NVOkmFl7J8tZ"
      },
      "outputs": [],
      "source": [
        "# len(X_train)\n",
        "y_train"
      ]
    },
    {
      "cell_type": "code",
      "execution_count": null,
      "metadata": {
        "id": "GVZxsRTtJ8tZ"
      },
      "outputs": [],
      "source": [
        "clf = RandomForestClassifier()\n",
        "clf.fit(X_train,y_train)"
      ]
    },
    {
      "cell_type": "code",
      "execution_count": null,
      "metadata": {
        "id": "9hnTMtXRJ8tZ"
      },
      "outputs": [],
      "source": [
        "y_pred = clf.predict(X_test)\n",
        "test_df = pd.DataFrame(y_pred)\n",
        "test_df['actual_y'] = y_test\n",
        "errors = len(test_df[test_df[0] != test_df['actual_y']])\n",
        "total = len(test_df)\n",
        "print(errors/total)"
      ]
    },
    {
      "cell_type": "code",
      "execution_count": null,
      "metadata": {
        "id": "z7w_29G3J8tZ"
      },
      "outputs": [],
      "source": [
        "test_df"
      ]
    },
    {
      "cell_type": "code",
      "execution_count": null,
      "metadata": {
        "id": "yAbgIoY1J8tZ"
      },
      "outputs": [],
      "source": [
        "ax = df[df['y_actual'] == 0].plot(x='sepal length (cm)',y='sepal width (cm)',kind='scatter')\n",
        "df[df['y_actual'] == 1].plot(x='sepal length (cm)',y='sepal width (cm)',kind='scatter',ax = ax,color= 'r')\n",
        "df[df['y_actual'] == 2].plot(x='sepal length (cm)',y='sepal width (cm)',kind='scatter',ax = ax,color= 'g')"
      ]
    },
    {
      "cell_type": "markdown",
      "metadata": {
        "id": "16-_9PdeJ8tZ"
      },
      "source": [
        "x_name = 'sepal length (cm)'\n",
        "y_name='sepal width (cm)'\n",
        "X_train, X_test, y_train, y_test = train_test_split(X[[x_name,y_name]], y, test_size=0.3) \n",
        "\n",
        "clf = RandomForestClassifier()\n",
        "clf.fit(X_train,y_train)\n",
        "y_pred = clf.predict(X_test)\n",
        "\n",
        "results = pd.DataFrame()\n",
        "results['y_actual'] = y_test\n",
        "results['y_pred'] = y_pred\n",
        "error = len(results[results['y_actual'] != results['y_pred']])\n",
        "total = len(results)\n",
        "print(100*error/total)"
      ]
    },
    {
      "cell_type": "code",
      "execution_count": null,
      "metadata": {
        "scrolled": true,
        "id": "FTlzMhhgJ8tZ"
      },
      "outputs": [],
      "source": [
        "x_name = 'sepal length (cm)'\n",
        "y_name='sepal width (cm)'\n",
        "X_train, X_test, y_train, y_test = train_test_split(X[[x_name,y_name]], y, test_size=0.1) \n",
        "\n",
        "clf = RandomForestClassifier()\n",
        "clf.fit(X_train,y_train)\n",
        "y_pred = clf.predict(X_test)\n",
        "\n",
        "results = pd.DataFrame()\n",
        "results['y_actual'] = y_test\n",
        "results['y_pred'] = y_pred\n",
        "error = len(results[results['y_actual'] != results['y_pred']])\n",
        "total = len(results)\n",
        "print(100*error/total)"
      ]
    },
    {
      "cell_type": "markdown",
      "metadata": {
        "id": "VkwmF-OyJ8tZ"
      },
      "source": [
        "from sklearn.datasets import load_iris\n",
        "\n",
        "iris = load_iris()\n",
        "\n",
        "print(iris.data)\n",
        "print(iris.target)\n"
      ]
    },
    {
      "cell_type": "markdown",
      "metadata": {
        "id": "M4WAT4EEJ8ta"
      },
      "source": [
        "from sklearn.datasets import load_iris\n",
        "iris_dataset = load_iris()\n",
        "print(\"Keys of iris_dataset: \\n{}\".format(iris_dataset.keys()))\n",
        "print(\"iris_datasets[DESCR][:193]+\\n. . . \")"
      ]
    },
    {
      "cell_type": "markdown",
      "metadata": {
        "id": "ngE3ERV8J8ta"
      },
      "source": [
        "results[x_name] = X_test[x_name]\n",
        "results[y_name] = X_test[y_name]\n",
        "plot_iris(results)"
      ]
    },
    {
      "cell_type": "markdown",
      "metadata": {
        "id": "pDp3OQf9J8ta"
      },
      "source": [
        "min_x = X[x_name].min()\n",
        "max_x = X[x_name].max()\n",
        "min_y = X[y_name].min()\n",
        "max_y = X[y_name].max()\n",
        "\n",
        "import numpy as np \n",
        "x_range = np.linspace(min_x,max_x,100)\n",
        "y_range = np.linspace(min_y,max_y,100)\n",
        "values = []\n",
        "for x_val in x_range:\n",
        "    for y_val in y_range:\n",
        "        values.append({\n",
        "            x_name:x_val,\n",
        "            y_name:y_val\n",
        "        })\n",
        "        \n",
        "val_df = pd.DataFrame(values)\n",
        "y_pred = clf.predict(val_df)\n",
        "val_df['y_actual'] = y_pred\n",
        "plot_iris(val_df)"
      ]
    },
    {
      "cell_type": "markdown",
      "metadata": {
        "id": "zsEVE5YGJ8ta"
      },
      "source": [
        "# מודל תחזית למגדר\n"
      ]
    },
    {
      "cell_type": "code",
      "execution_count": null,
      "metadata": {
        "id": "gOdHNCKoJ8ta"
      },
      "outputs": [],
      "source": [
        "import pandas as pd"
      ]
    },
    {
      "cell_type": "code",
      "execution_count": null,
      "metadata": {
        "id": "d__ru94fJ8ta"
      },
      "outputs": [],
      "source": [
        "df = pd.read_csv(r'\\Users\\user\\Downloads\\Weight_data.csv')"
      ]
    },
    {
      "cell_type": "code",
      "execution_count": null,
      "metadata": {
        "id": "4SK9q5iGJ8ta"
      },
      "outputs": [],
      "source": [
        "ax = df[df['gender'] == 1].plot(x='weight',y='height',kind='scatter')\n",
        "ax = df[df['gender'] == 0].plot(x='weight',y='height',kind='scatter',ax=ax,color='r')"
      ]
    },
    {
      "cell_type": "code",
      "execution_count": null,
      "metadata": {
        "id": "FRz8jry9J8ta"
      },
      "outputs": [],
      "source": [
        "from sklearn.tree import DecisionTreeClassifier\n",
        "from sklearn.model_selection import train_test_split\n",
        "clf = DecisionTreeClassifier()\n",
        "X = df[['height','weight']]\n",
        "y = df['gender']\n",
        "X_train, X_test, y_train,y_test = train_test_split(X,y, test_size =0.3)\n"
      ]
    },
    {
      "cell_type": "code",
      "execution_count": null,
      "metadata": {
        "id": "2Kz45TLHJ8ta"
      },
      "outputs": [],
      "source": [
        "from sklearn.tree import DecisionTreeClassifier\n",
        "from sklearn.model_selection import train_test_split\n",
        "clf = DecisionTreeClassifier()\n",
        "X = df[['height','weight']]\n",
        "y = df['gender']\n",
        "X_train, X_test, y_train,y_test = train_test_split(X,y, test_size =0.3)\n"
      ]
    },
    {
      "cell_type": "code",
      "execution_count": null,
      "metadata": {
        "id": "Oze97Qt2J8ta"
      },
      "outputs": [],
      "source": [
        "clf.fit(X_train, y_train)\n",
        "y_pred = clf.predict(X_test)\n",
        "results = pd.DataFrame()\n",
        "results['y_pred'] = y_pred\n",
        "results['y_actual'] = y_test.values"
      ]
    },
    {
      "cell_type": "code",
      "execution_count": null,
      "metadata": {
        "scrolled": true,
        "id": "OzzrSJC8J8ta"
      },
      "outputs": [],
      "source": [
        "y_test.values"
      ]
    },
    {
      "cell_type": "code",
      "execution_count": null,
      "metadata": {
        "id": "yD0ApJQXJ8ta"
      },
      "outputs": [],
      "source": [
        "clf.fit(X_train, y_train)\n",
        "y_pred = clf.predict(X_test)\n",
        "results = pd.DataFrame()\n",
        "results['y_pred'] = y_pred\n",
        "results['y_actual'] = y_test.values"
      ]
    },
    {
      "cell_type": "code",
      "execution_count": null,
      "metadata": {
        "id": "mN_c4eLJJ8ta"
      },
      "outputs": [],
      "source": [
        "correct = len(results[results['y_pred'] == results['y_actual']])\n",
        "results[results['y_pred'] != results['y_actual']]"
      ]
    },
    {
      "cell_type": "code",
      "execution_count": null,
      "metadata": {
        "id": "zzhHT1naJ8ta"
      },
      "outputs": [],
      "source": [
        "from sklearn.metrics import confusion_matrix\n",
        "confusion_matrix(y_test,y_pred)"
      ]
    },
    {
      "cell_type": "code",
      "execution_count": null,
      "metadata": {
        "scrolled": true,
        "id": "oYZXj_TBJ8tb"
      },
      "outputs": [],
      "source": [
        "import matplotlib.pyplot as plt\n",
        "import numpy as np\n",
        "\n",
        "plt.clf()\n",
        "plt.imshow(results,interpolation='nearest', cmap=plt.cm.Wistia)\n",
        "classNames = ['Negative','Positive']\n",
        "plt.title('Male Female Data')\n",
        "plt.ylabel('True label')\n",
        "plt.xlabel('Predicted label')\n",
        "tick_marks = np.arange(len(classNames))\n",
        "plt.xticks(tick_marks, classNames, rotation=45)\n",
        "plt.yticks(tick_marks, classNames)\n",
        "s = [['TN','FP'], ['FN', 'TP']]\n",
        "for i in range(2):\n",
        "    for j in range(2):\n",
        "        plt.text(j,i, str(s[i][j])+\" = \"+str(cm[i][j]))\n",
        "plt.show()"
      ]
    },
    {
      "cell_type": "code",
      "execution_count": null,
      "metadata": {
        "id": "dFNfO1Z2J8tb"
      },
      "outputs": [],
      "source": [
        "import matplotlib.pyplot as plt\n",
        "import numpy as np\n"
      ]
    },
    {
      "cell_type": "code",
      "execution_count": null,
      "metadata": {
        "id": "SVjOyZktJ8tb"
      },
      "outputs": [],
      "source": [
        "df"
      ]
    },
    {
      "cell_type": "code",
      "execution_count": null,
      "metadata": {
        "id": "SQI9nSJuJ8tb"
      },
      "outputs": [],
      "source": [
        "import matplotlib.pyplot as plt\n",
        "import numpy as np\n",
        "\n",
        "plt.clf()\n",
        "plt.imshow(results, interpolation='nearest', cmap=plt.cm.Wistia)\n",
        "classNames = ['Negative','Positive']\n",
        "plt.title('Male Female Data')\n",
        "plt.ylabel('True label')\n",
        "plt.xlabel('Predicted label')\n",
        "tick_marks = np.arange(len(classNames))\n",
        "plt.xticks(tick_marks, classNames, rotation=45)\n",
        "plt.yticks(tick_marks, classNames)\n",
        "s = [['TN','FP'], ['FN', 'TP']]\n",
        "for i in range(2):\n",
        "    for j in range(2):\n",
        "        plt.text(j,i, str(s[i][j])+\" = \"+str(cm[i][j]))\n",
        "plt.show()"
      ]
    },
    {
      "cell_type": "code",
      "execution_count": null,
      "metadata": {
        "id": "-L5SuhwRJ8tb"
      },
      "outputs": [],
      "source": [
        "results['weight'] = X_test['weight'].values\n",
        "results['height'] = X_test['height'].values\n",
        "ax = results[results['y_actual']==1].plot(x='weight',y='height',kind = 'scatter')\n",
        "ax = results[results['y_actual']==0].plot(x='weight',y='height',kind = 'scatter',ax=ax,color='red')\n",
        "ax = results[results['y_actual']!=results['y_pred']].plot(x='weight',y='height',kind = 'scatter',ax=ax,color='black',marker='x')"
      ]
    },
    {
      "cell_type": "code",
      "execution_count": null,
      "metadata": {
        "id": "nne5j8F6J8tb"
      },
      "outputs": [],
      "source": [
        "def plot_class(results):\n",
        "    ax = results[results['y_actual']==1].plot(x='weight',y='height',kind = 'scatter',color='blue')\n",
        "    ax = results[results['y_actual']==0].plot(x='weight',y='height',kind = 'scatter',ax=ax,color='red')"
      ]
    },
    {
      "cell_type": "code",
      "execution_count": null,
      "metadata": {
        "id": "zQu15u75J8tb"
      },
      "outputs": [],
      "source": [
        "x_name =  'height'\n",
        "y_name =  'weight'\n",
        "min_x = X[x_name].min()\n",
        "max_x = X[x_name].max()\n",
        "min_y = X[y_name].min()\n",
        "max_y = X[y_name].max()\n",
        "\n",
        "import numpy as np \n",
        "x_range = np.linspace(min_x,max_x,100)\n",
        "y_range = np.linspace(min_y,max_y,100)\n",
        "values = []\n",
        "for x_val in x_range:\n",
        "    for y_val in y_range:\n",
        "        values.append({\n",
        "            x_name:x_val,\n",
        "            y_name:y_val\n",
        "        })\n",
        "        \n",
        "val_df = pd.DataFrame(values)\n",
        "y_pred = clf.predict(val_df)\n",
        "val_df['y_actual'] = y_pred\n",
        "plot_class(val_df)\n"
      ]
    },
    {
      "cell_type": "code",
      "execution_count": null,
      "metadata": {
        "id": "vFAoKSbVJ8tb"
      },
      "outputs": [],
      "source": [
        "val_df"
      ]
    },
    {
      "cell_type": "code",
      "execution_count": null,
      "metadata": {
        "id": "a4xYzOgTJ8tb"
      },
      "outputs": [],
      "source": [
        "val_df = pd.DataFrame(values)\n",
        "y_pred = clf.predict(val_df)\n",
        "val_df['y_actual'] = y_pred\n",
        "plot_class(val_df)"
      ]
    },
    {
      "cell_type": "code",
      "execution_count": null,
      "metadata": {
        "id": "M8APFEpuJ8tb"
      },
      "outputs": [],
      "source": []
    },
    {
      "cell_type": "markdown",
      "metadata": {
        "id": "DBg6QLfsJ8tc"
      },
      "source": [
        "# שבוע 2 קלסיפיקציה של מניות"
      ]
    },
    {
      "cell_type": "code",
      "execution_count": null,
      "metadata": {
        "id": "ZWSpOXGMJ8tc"
      },
      "outputs": [],
      "source": [
        "import pandas as pd"
      ]
    },
    {
      "cell_type": "code",
      "execution_count": null,
      "metadata": {
        "id": "lnLqX22sJ8tc"
      },
      "outputs": [],
      "source": [
        "df = pd.read_csv(r'\\Users\\user\\Downloads\\all_stocks_5yr.csv')"
      ]
    },
    {
      "cell_type": "code",
      "execution_count": null,
      "metadata": {
        "id": "c4FftSt6J8tc"
      },
      "outputs": [],
      "source": [
        "df['dt'] = pd.to_datetime(df['date'])\n",
        "df['year'] = df['dt'].dt.year\n",
        "df['month'] = df['dt'].dt.month\n",
        "df['year_month'] = df['year'].astype(str) + '_' + df['month'].astype('str')\n",
        "df = df.sort_values('dt')\n",
        "\n",
        "def calculate_returns(df):\n",
        "    return (df['close'].iloc[-1] - df['open'].iloc[0] ) / df['open'].iloc[0]"
      ]
    },
    {
      "cell_type": "code",
      "execution_count": null,
      "metadata": {
        "scrolled": true,
        "id": "sfsGm1U_J8tc"
      },
      "outputs": [],
      "source": [
        "df"
      ]
    },
    {
      "cell_type": "code",
      "execution_count": null,
      "metadata": {
        "id": "Ngg4pZK3J8tc"
      },
      "outputs": [],
      "source": [
        "df[df['year']== 2014].groupby('Name').apply(calculate_returns)\n",
        "df[df['year']== 2015].groupby('Name').apply(calculate_returns)\n",
        "df[df['year']== 2016].groupby('Name').apply(calculate_returns)"
      ]
    },
    {
      "cell_type": "code",
      "execution_count": null,
      "metadata": {
        "scrolled": true,
        "id": "lzZ52khZJ8tc"
      },
      "outputs": [],
      "source": [
        "df[df['year']== 2016].groupby('Name').apply(calculate_returns).plot()"
      ]
    },
    {
      "cell_type": "code",
      "execution_count": null,
      "metadata": {
        "id": "InAgRz7JJ8tc"
      },
      "outputs": [],
      "source": [
        "ml = pd.DataFrame()\n",
        "ml['returns_2014'] = df[df['year']== 2014].groupby('Name').apply(calculate_returns)\n",
        "ml['returns_2015'] =df[df['year']== 2015].groupby('Name').apply(calculate_returns)\n",
        "ml['returns_2016'] =df[df['year']== 2016].groupby('Name').apply(calculate_returns)"
      ]
    },
    {
      "cell_type": "code",
      "execution_count": null,
      "metadata": {
        "id": "dDoeHLHwJ8tc"
      },
      "outputs": [],
      "source": [
        "ml.iloc[:20].plot(x='returns_2014',y='returns_2015',kind='scatter')"
      ]
    },
    {
      "cell_type": "code",
      "execution_count": null,
      "metadata": {
        "id": "5G1BnfQXJ8tc"
      },
      "outputs": [],
      "source": [
        "ml.loc[:'aap'].plot()"
      ]
    },
    {
      "cell_type": "code",
      "execution_count": null,
      "metadata": {
        "id": "PkQN0V7nJ8tc"
      },
      "outputs": [],
      "source": [
        "ml.loc[:'aap'].plot(x='returns_2014',y='returns_2015',kind='scatter')"
      ]
    },
    {
      "cell_type": "code",
      "execution_count": null,
      "metadata": {
        "id": "bvQlBlOmJ8tc"
      },
      "outputs": [],
      "source": [
        "ml.iloc[:10].plot(x='returns_2014',y='returns_2015',kind='scatter')"
      ]
    },
    {
      "cell_type": "code",
      "execution_count": null,
      "metadata": {
        "id": "DLp7lF26J8tc"
      },
      "outputs": [],
      "source": [
        "ml = pd.DataFrame()\n",
        "ml['returns_2014'] = df[df['year']== 2014].groupby('Name').apply(calculate_returns)\n",
        "ml['returns_2015'] =df[df['year']== 2015].groupby('Name').apply(calculate_returns)\n",
        "ml['returns_2016'] =df[df['year']== 2016].groupby('Name').apply(calculate_returns)"
      ]
    },
    {
      "cell_type": "code",
      "execution_count": null,
      "metadata": {
        "id": "6uCEzKjpJ8tc"
      },
      "outputs": [],
      "source": [
        "ml = pd.DataFrame()\n",
        "ml['returns_2014'] = df[df['year']== 2014].groupby('Name').apply(calculate_returns)\n",
        "ml['returns_2015'] =df[df['year']== 2015].groupby('Name').apply(calculate_returns)\n",
        "ml['returns_2016'] =df[df['year']== 2016].groupby('Name').apply(calculate_returns)"
      ]
    },
    {
      "cell_type": "code",
      "execution_count": null,
      "metadata": {
        "id": "5h0aO5xGJ8tc"
      },
      "outputs": [],
      "source": [
        "ml.iloc[:20].plot(x='returns_2014',y='returns_2015',kind='scatter')"
      ]
    },
    {
      "cell_type": "markdown",
      "metadata": {
        "id": "HbATtAU-J8tc"
      },
      "source": [
        "# ויזואליזציה "
      ]
    },
    {
      "cell_type": "markdown",
      "metadata": {
        "id": "1FTCiPfjJ8tc"
      },
      "source": [
        "# של התיוג"
      ]
    },
    {
      "cell_type": "code",
      "execution_count": null,
      "metadata": {
        "id": "XRrwKMfPJ8tc"
      },
      "outputs": [],
      "source": [
        "ml['returns_2016'] >= 0"
      ]
    },
    {
      "cell_type": "code",
      "execution_count": null,
      "metadata": {
        "id": "bF5poH75J8tc"
      },
      "outputs": [],
      "source": [
        "ml['target'] = ml['returns_2016'] >= 0.15"
      ]
    },
    {
      "cell_type": "code",
      "execution_count": null,
      "metadata": {
        "id": "ovWaiS6ZJ8tc"
      },
      "outputs": [],
      "source": [
        "ax = ml[ml['target'] == 1].plot(x='returns_2014',y='returns_2015',kind = 'scatter',color='green')\n",
        "ax = ml[ml['target'] == 0].plot(x='returns_2014',y='returns_2015',kind = 'scatter',color='red',ax=ax)"
      ]
    },
    {
      "cell_type": "code",
      "execution_count": null,
      "metadata": {
        "scrolled": true,
        "id": "FjYduPdYJ8tc"
      },
      "outputs": [],
      "source": [
        "ax = ml[ml['target'] == 1].plot(x='returns_2014',y='returns_2015',kind = 'scatter',color='green')\n",
        "ax = ml[ml['target'] == 0].plot(x='returns_2014',y='returns_2015',kind = 'scatter',color='red',ax=ax)"
      ]
    },
    {
      "cell_type": "markdown",
      "metadata": {
        "id": "HxYkpSk5J8td"
      },
      "source": [
        "##חלוקה לאימון ובדיקה"
      ]
    },
    {
      "cell_type": "code",
      "execution_count": null,
      "metadata": {
        "id": "qxk1-sehJ8td"
      },
      "outputs": [],
      "source": [
        "ml[['returns_2014','returns_2015']]"
      ]
    },
    {
      "cell_type": "code",
      "execution_count": null,
      "metadata": {
        "id": "B5aKLXHGJ8td"
      },
      "outputs": [],
      "source": [
        "X = ml[['returns_2014','returns_2015']]\n",
        "y = ml['target']\n"
      ]
    },
    {
      "cell_type": "code",
      "execution_count": null,
      "metadata": {
        "id": "y4kC7o6_J8td"
      },
      "outputs": [],
      "source": [
        "from sklearn.model_selection import train_test_split\n",
        "\n",
        "X = ml[['returns_2014','returns_2015']]\n",
        "y = ml['target']\n",
        "\n",
        "X_train, X_test , y_train, y_test = train_test_split(X, y, test_size = 0.3)"
      ]
    },
    {
      "cell_type": "code",
      "execution_count": null,
      "metadata": {
        "id": "VwF776IkJ8td"
      },
      "outputs": [],
      "source": [
        "from sklearn.ensemble import RandomForestClassifier\n",
        "\n",
        "clf = RandomForestClassifier()\n",
        "clf.fit(X_train, y_train)\n",
        "\n",
        "y_pred = clf.predict(X_test)"
      ]
    },
    {
      "cell_type": "code",
      "execution_count": null,
      "metadata": {
        "id": "tFK-DkDlJ8td"
      },
      "outputs": [],
      "source": [
        "y_pred"
      ]
    },
    {
      "cell_type": "code",
      "execution_count": null,
      "metadata": {
        "id": "UNUvjGzWJ8td"
      },
      "outputs": [],
      "source": [
        "y_test"
      ]
    },
    {
      "cell_type": "markdown",
      "metadata": {
        "id": "ldBemewHJ8td"
      },
      "source": [
        "#מטריצת הבילבול"
      ]
    },
    {
      "cell_type": "code",
      "execution_count": null,
      "metadata": {
        "id": "9jy64VT_J8td"
      },
      "outputs": [],
      "source": [
        "from sklearn.metrics import confusion_matrix\n",
        "\n",
        "cm = confusion_matrix(y_test, y_pred)\n",
        "cm\n"
      ]
    },
    {
      "cell_type": "markdown",
      "metadata": {
        "id": "1dqlle2TJ8td"
      },
      "source": [
        "# מטריצת הבילבול  "
      ]
    },
    {
      "cell_type": "code",
      "execution_count": null,
      "metadata": {
        "scrolled": true,
        "id": "UDHS2bkYJ8td"
      },
      "outputs": [],
      "source": [
        "import matplotlib.pyplot as plt\n",
        "import numpy as np\n",
        "\n",
        "plt.clf()\n",
        "plt.imshow(cm, interpolation='nearest', cmap=plt.cm.Wistia)\n",
        "classNames = ['Negative','Positive']\n",
        "plt.title('Stocks predict 2016')\n",
        "plt.ylabel('True label')\n",
        "plt.xlabel('Predicted label')\n",
        "tick_marks = np.arange(len(classNames))\n",
        "plt.xticks(tick_marks, classNames, rotation=45)\n",
        "plt.yticks(tick_marks, classNames)\n",
        "s = [['TN','FP'], ['FN', 'TP']]\n",
        "for i in range(2):\n",
        "    for j in range(2):\n",
        "        plt.text(j,i, str(s[i][j])+\" = \"+str(cm[i][j]))\n",
        "plt.show()"
      ]
    },
    {
      "cell_type": "code",
      "execution_count": null,
      "metadata": {
        "id": "mRHwanJjJ8td"
      },
      "outputs": [],
      "source": [
        "print(ml.loc[y_test.index, :]['returns_2016'].mean() * 100)\n",
        "print(ml.loc[y_test[y_pred].index, :]['returns_2016'].mean() * 100)\n",
        "print(ml.loc[y_test[~y_pred].index, 'returns_2016'].mean() * 100)"
      ]
    },
    {
      "cell_type": "markdown",
      "metadata": {
        "id": "ru_4PPrrJ8td"
      },
      "source": [
        "# חישוב הרווח "
      ]
    },
    {
      "cell_type": "code",
      "execution_count": null,
      "metadata": {
        "scrolled": true,
        "id": "9PwTdiFeJ8td"
      },
      "outputs": [],
      "source": [
        "# ml[y_test.i]\n",
        "y_test.index"
      ]
    },
    {
      "cell_type": "code",
      "execution_count": null,
      "metadata": {
        "id": "q6z0Gh26J8td"
      },
      "outputs": [],
      "source": [
        "# ml[y_test.i]\n",
        "ml.loc[y_test.index,:]"
      ]
    },
    {
      "cell_type": "code",
      "execution_count": null,
      "metadata": {
        "id": "FMsoeKf3J8td"
      },
      "outputs": [],
      "source": [
        "# ml[y_test.i]\n",
        "ml.loc[y_test.index,:]['returns_2016']"
      ]
    },
    {
      "cell_type": "markdown",
      "metadata": {
        "id": "DIfOA1egJ8td"
      },
      "source": [
        "# חישוב המומצע"
      ]
    },
    {
      "cell_type": "code",
      "execution_count": null,
      "metadata": {
        "id": "deJCe4wdJ8td"
      },
      "outputs": [],
      "source": [
        "# ml[y_test.i]\n",
        "ml.loc[y_test.index,:]['returns_2016'].mean()"
      ]
    },
    {
      "cell_type": "markdown",
      "metadata": {
        "id": "X1-WReS3J8td"
      },
      "source": [
        "# הרווח שלי ב - % אחוז"
      ]
    },
    {
      "cell_type": "code",
      "execution_count": null,
      "metadata": {
        "id": "l32O8V32J8td"
      },
      "outputs": [],
      "source": [
        "# ml[y_test.i]\n",
        "ml.loc[y_test.index,:]['returns_2016'].mean() * 100"
      ]
    },
    {
      "cell_type": "markdown",
      "metadata": {
        "id": "hO5zsWkCJ8td"
      },
      "source": [
        "# "
      ]
    },
    {
      "cell_type": "code",
      "execution_count": null,
      "metadata": {
        "id": "MAkKbSvpJ8td"
      },
      "outputs": [],
      "source": [
        "# ml[y_test.i]\n",
        "ml.loc[y_test.index,:]['returns_2016'].mean() * 100\n",
        "y_test[y_pred]"
      ]
    },
    {
      "cell_type": "code",
      "execution_count": null,
      "metadata": {
        "id": "qgVWwWVdJ8te"
      },
      "outputs": [],
      "source": [
        "\n",
        "ml.loc[y_test.index,:]['returns_2016'].mean() * 100\n",
        "# y_test[y_pred]\n",
        "y_test[y_pred]"
      ]
    },
    {
      "cell_type": "markdown",
      "metadata": {
        "id": "P4EiXE9SJ8te"
      },
      "source": [
        "# אחרי יצור המודל הוא העלה לי את הרווחים יותר 20-30אחוז"
      ]
    },
    {
      "cell_type": "code",
      "execution_count": null,
      "metadata": {
        "id": "qkl1PAATJ8te"
      },
      "outputs": [],
      "source": [
        "print(ml.loc[y_test.index, :]['returns_2016'].mean() * 100)\n",
        "print(ml.loc[y_test[y_pred].index, :]['returns_2016'].mean() * 100)\n",
        "print(ml.loc[y_test[~y_pred].index, 'returns_2016'].mean() * 100)"
      ]
    },
    {
      "cell_type": "markdown",
      "metadata": {
        "id": "ylmlzxGRJ8te"
      },
      "source": [
        "# שיפור הרווחים"
      ]
    },
    {
      "cell_type": "code",
      "execution_count": null,
      "metadata": {
        "id": "50ptAaFOJ8te"
      },
      "outputs": [],
      "source": [
        "y_test.value_counts()"
      ]
    },
    {
      "cell_type": "markdown",
      "metadata": {
        "id": "AqE0SWojJ8te"
      },
      "source": [
        "# שלב 2 הוספת תכונות"
      ]
    },
    {
      "cell_type": "markdown",
      "metadata": {
        "id": "K3sWy8BnJ8te"
      },
      "source": [
        "# תכנון המטרות"
      ]
    },
    {
      "cell_type": "code",
      "execution_count": null,
      "metadata": {
        "id": "5-hBv67uJ8te"
      },
      "outputs": [],
      "source": [
        "ml = pd.DataFrame()\n",
        "ml['returns_2014'] = df[df['year'] == 2014].groupby('Name').apply(calculate_returns)\n",
        "ml['returns_2015'] = df[df['year'] == 2015].groupby('Name').apply(calculate_returns)\n",
        "ml['returns_2016'] = df[df['year'] == 2016].groupby('Name').apply(calculate_returns)"
      ]
    },
    {
      "cell_type": "code",
      "execution_count": null,
      "metadata": {
        "id": "uN_rTEPlJ8te"
      },
      "outputs": [],
      "source": [
        "df[df['year'] == 2016].groupby('Name').apply(calculate_returns)"
      ]
    },
    {
      "cell_type": "code",
      "execution_count": null,
      "metadata": {
        "id": "XadXejjpJ8te"
      },
      "outputs": [],
      "source": [
        "a = df[df['year'].isin([2014,2015])].groupby(['Name','year_month']).apply(calculate_returns)"
      ]
    },
    {
      "cell_type": "code",
      "execution_count": null,
      "metadata": {
        "id": "lFqwt8asJ8te"
      },
      "outputs": [],
      "source": [
        "ml = a.reset_index().pivot_table(index='Name',columns='year_month',values=0)\n",
        "ml['returns_2016'] = df[df['year'] == 2016].groupby('Name').apply(calculate_returns)"
      ]
    },
    {
      "cell_type": "code",
      "execution_count": null,
      "metadata": {
        "id": "92rOnL6NJ8te"
      },
      "outputs": [],
      "source": [
        "ml['target'] = ml['returns_2016'] >= 0.15"
      ]
    },
    {
      "cell_type": "code",
      "execution_count": null,
      "metadata": {
        "id": "NIWI4jMtJ8te"
      },
      "outputs": [],
      "source": [
        "ml['target'].value_counts()"
      ]
    },
    {
      "cell_type": "code",
      "execution_count": null,
      "metadata": {
        "id": "nteDc6Z7J8te"
      },
      "outputs": [],
      "source": [
        "ml = ml.dropna()"
      ]
    },
    {
      "cell_type": "code",
      "execution_count": null,
      "metadata": {
        "id": "VRjwXhkuJ8te"
      },
      "outputs": [],
      "source": [
        " ml.dropna()"
      ]
    },
    {
      "cell_type": "code",
      "execution_count": null,
      "metadata": {
        "id": "oxt-ITCpJ8te"
      },
      "outputs": [],
      "source": [
        "ml.fillna(0)"
      ]
    },
    {
      "cell_type": "code",
      "execution_count": null,
      "metadata": {
        "id": "EF8Y5eOEJ8te"
      },
      "outputs": [],
      "source": [
        "ml[ml.fillna(0)['2014_1'] == 0]"
      ]
    },
    {
      "cell_type": "code",
      "execution_count": null,
      "metadata": {
        "id": "ZKXRb_5vJ8te"
      },
      "outputs": [],
      "source": [
        "ml.dropna()"
      ]
    },
    {
      "cell_type": "code",
      "execution_count": null,
      "metadata": {
        "id": "VxAa_dOMJ8te"
      },
      "outputs": [],
      "source": [
        "from sklearn.ensemble import RandomForestClassifier\n",
        "from sklearn.model_selection import train_test_split\n",
        "from sklearn.metrics import confusion_matrix"
      ]
    },
    {
      "cell_type": "code",
      "execution_count": null,
      "metadata": {
        "id": "jjUMn4xLJ8te"
      },
      "outputs": [],
      "source": [
        "cols = ['2014_1', '2014_10', '2014_11', '2014_12', '2014_2', '2014_3', '2014_4',\n",
        "       '2014_5', '2014_6', '2014_7', '2014_8', '2014_9', '2015_1', '2015_10',\n",
        "       '2015_11', '2015_12', '2015_2', '2015_3', '2015_4', '2015_5', '2015_6',\n",
        "       '2015_7', '2015_8', '2015_9']"
      ]
    },
    {
      "cell_type": "markdown",
      "metadata": {
        "id": "JkGJxD7AJ8te"
      },
      "source": [
        "# אימון המודל"
      ]
    },
    {
      "cell_type": "code",
      "execution_count": null,
      "metadata": {
        "id": "N0o5CHq6J8te"
      },
      "outputs": [],
      "source": [
        "clf = RandomForestClassifier()\n",
        "ml = ml.sample(frac=1)\n",
        "X = ml[cols]\n",
        "y = ml['target']"
      ]
    },
    {
      "cell_type": "code",
      "execution_count": null,
      "metadata": {
        "id": "O1Sf4k0CJ8te"
      },
      "outputs": [],
      "source": [
        "X_train,X_test, y_train,y_test = train_test_split(X,y,test_size = 0.3)\n",
        "clf.fit(X_train,y_train)\n",
        "y_pred = clf.predict(X_test)"
      ]
    },
    {
      "cell_type": "code",
      "execution_count": null,
      "metadata": {
        "id": "6qoq-qHuJ8te"
      },
      "outputs": [],
      "source": [
        "cm = confusion_matrix(y_test, y_pred)\n",
        "cm"
      ]
    },
    {
      "cell_type": "code",
      "execution_count": null,
      "metadata": {
        "id": "jaX9U4QbJ8tf"
      },
      "outputs": [],
      "source": [
        "import matplotlib.pyplot as plt\n",
        "import numpy as np\n",
        "\n",
        "plt.clf()\n",
        "plt.imshow(cm, interpolation='nearest', cmap=plt.cm.Wistia)\n",
        "classNames = ['Negative','Positive']\n",
        "plt.title('Stocks predict 2016')\n",
        "plt.ylabel('True label')\n",
        "plt.xlabel('Predicted label')\n",
        "tick_marks = np.arange(len(classNames))\n",
        "plt.xticks(tick_marks, classNames, rotation=45)\n",
        "plt.yticks(tick_marks, classNames)\n",
        "s = [['TN','FP'], ['FN', 'TP']]\n",
        "for i in range(2):\n",
        "    for j in range(2):\n",
        "        plt.text(j,i, str(s[i][j])+\" = \"+str(cm[i][j]))\n",
        "plt.show()"
      ]
    },
    {
      "cell_type": "code",
      "execution_count": null,
      "metadata": {
        "id": "3GdMX1kXJ8tf"
      },
      "outputs": [],
      "source": [
        "print(y_pred.sum())\n",
        "print(len(y_pred))"
      ]
    },
    {
      "cell_type": "code",
      "execution_count": null,
      "metadata": {
        "id": "wpmRZPeUJ8tf"
      },
      "outputs": [],
      "source": [
        "y_test.value_counts()"
      ]
    },
    {
      "cell_type": "code",
      "execution_count": null,
      "metadata": {
        "id": "HUGPr_rmJ8tf"
      },
      "outputs": [],
      "source": [
        "y_pred.sum()"
      ]
    },
    {
      "cell_type": "code",
      "execution_count": null,
      "metadata": {
        "id": "qkaLjBubJ8tf"
      },
      "outputs": [],
      "source": [
        "print(y_pred.sum())\n",
        "print(len(y_pred))"
      ]
    },
    {
      "cell_type": "code",
      "execution_count": null,
      "metadata": {
        "id": "UjSMHELpJ8tf"
      },
      "outputs": [],
      "source": [
        "y_test.value_counts()"
      ]
    },
    {
      "cell_type": "code",
      "execution_count": null,
      "metadata": {
        "id": "S5rGClKxJ8tf"
      },
      "outputs": [],
      "source": [
        "all_stocks = X_test.index"
      ]
    },
    {
      "cell_type": "code",
      "execution_count": null,
      "metadata": {
        "id": "g34zV7wDJ8tf"
      },
      "outputs": [],
      "source": [
        "print(100*ml.loc[all_stocks]['returns_2016'].mean())\n",
        "print(100*ml.loc[X_test[y_pred].index]['returns_2016'].mean())\n",
        "print(100*ml.loc[X_test[~y_pred].index]['returns_2016'].mean())"
      ]
    },
    {
      "cell_type": "markdown",
      "metadata": {
        "id": "oHfNDburJ8tf"
      },
      "source": [
        "# אופטימיזציה של המודל"
      ]
    },
    {
      "cell_type": "code",
      "execution_count": null,
      "metadata": {
        "id": "ImZZrFIAJ8tf"
      },
      "outputs": [],
      "source": [
        "# print(clf.feature_importances_)\n",
        "# print(X_test.columns)\n",
        "\n",
        "# X_test.columns\n",
        "# clf.feature_importances_\n",
        "ft = pd.DataFrame((zip(X_test.columns,clf.feature_importances_)))\n",
        "ft.sort_values(1,ascending=False).plot(x=0,y=1,kind='bar')"
      ]
    },
    {
      "cell_type": "code",
      "execution_count": null,
      "metadata": {
        "id": "Kms-ZxzUJ8tf"
      },
      "outputs": [],
      "source": [
        "ft.sort_values(1,ascending=False).tail(10)[0].values"
      ]
    },
    {
      "cell_type": "code",
      "execution_count": null,
      "metadata": {
        "id": "U93VAmUeJ8tf"
      },
      "outputs": [],
      "source": [
        "import pandas as pd\n",
        "import numpy as np"
      ]
    },
    {
      "cell_type": "code",
      "execution_count": null,
      "metadata": {
        "id": "a-Jm2CcUJ8tf"
      },
      "outputs": [],
      "source": [
        "df = pd.DataFrame()\n",
        "df['normal_one'] = np.random.normal(0,1,10000)\n",
        "df['normal_five'] = np.random.normal(0,5,10000)\n"
      ]
    },
    {
      "cell_type": "markdown",
      "metadata": {
        "id": "OSn-WaEOJ8tf"
      },
      "source": [
        "ממוצא וסטית תקן התפלגות נורמאלית"
      ]
    },
    {
      "cell_type": "code",
      "execution_count": null,
      "metadata": {
        "id": "HnaCMpOMJ8tf"
      },
      "outputs": [],
      "source": [
        "df['normal_one'].hist(bins=100)\n"
      ]
    },
    {
      "cell_type": "code",
      "execution_count": null,
      "metadata": {
        "id": "A_u8EXKiJ8tf"
      },
      "outputs": [],
      "source": [
        "print(df['normal_one'].mean())\n",
        "print(df['normal_one'].std())"
      ]
    },
    {
      "cell_type": "code",
      "execution_count": null,
      "metadata": {
        "id": "QYErVDi2J8tf"
      },
      "outputs": [],
      "source": [
        "df['normal_five'].hist(bins=100)"
      ]
    },
    {
      "cell_type": "code",
      "execution_count": null,
      "metadata": {
        "id": "IfnLd7pUJ8tf"
      },
      "outputs": [],
      "source": [
        "print(df['normal_five'].mean())\n",
        "print(df['normal_five'].std())"
      ]
    },
    {
      "cell_type": "code",
      "execution_count": null,
      "metadata": {
        "id": "CKBjPb8zJ8tf"
      },
      "outputs": [],
      "source": [
        "dir(clf)"
      ]
    },
    {
      "cell_type": "code",
      "execution_count": null,
      "metadata": {
        "id": "ITALAiwvJ8tf"
      },
      "outputs": [],
      "source": [
        "clf.feature_importances_"
      ]
    },
    {
      "cell_type": "code",
      "execution_count": null,
      "metadata": {
        "id": "ro9DpTLgJ8tf"
      },
      "outputs": [],
      "source": [
        "X_test"
      ]
    },
    {
      "cell_type": "code",
      "execution_count": null,
      "metadata": {
        "id": "5tQbIhwEJ8tg"
      },
      "outputs": [],
      "source": []
    },
    {
      "cell_type": "code",
      "execution_count": null,
      "metadata": {
        "id": "m0C1ziE6J8tg"
      },
      "outputs": [],
      "source": []
    },
    {
      "cell_type": "markdown",
      "metadata": {
        "id": "lxxyrhzcJ8tg"
      },
      "source": [
        "# סדרת זמן Time Series"
      ]
    },
    {
      "cell_type": "markdown",
      "metadata": {
        "id": "J0XY18pcJ8tg"
      },
      "source": [
        "שימוש בנתונים"
      ]
    },
    {
      "cell_type": "markdown",
      "metadata": {
        "id": "2arSUvdpJ8tg"
      },
      "source": [
        "המרה לגישה מונחית תכונות"
      ]
    },
    {
      "cell_type": "markdown",
      "metadata": {
        "id": "xhR4B_3xJ8tg"
      },
      "source": [
        "שימוש באסאמאיי כדי לחזות טיאס"
      ]
    },
    {
      "cell_type": "markdown",
      "metadata": {
        "id": "NIKwRfFDJ8tg"
      },
      "source": [
        "TS שימוש בכלים מתקדמים לחזות "
      ]
    },
    {
      "cell_type": "markdown",
      "metadata": {
        "id": "8Zv7L-tgJ8tg"
      },
      "source": [
        "OverFitting in TS"
      ]
    },
    {
      "cell_type": "code",
      "execution_count": null,
      "metadata": {
        "id": "EOzmYALAJ8tg"
      },
      "outputs": [],
      "source": []
    },
    {
      "cell_type": "code",
      "execution_count": null,
      "metadata": {
        "id": "VnijS4GVJ8tg"
      },
      "outputs": [],
      "source": []
    },
    {
      "cell_type": "markdown",
      "metadata": {
        "id": "bk62HEjKJ8tg"
      },
      "source": [
        "# ARIMA ו SMA שימוש ב"
      ]
    },
    {
      "cell_type": "code",
      "execution_count": null,
      "metadata": {
        "id": "-wP_hbHSJ8tg"
      },
      "outputs": [],
      "source": []
    },
    {
      "cell_type": "code",
      "execution_count": null,
      "metadata": {
        "id": "IeeHg0yTJ8tg"
      },
      "outputs": [],
      "source": [
        "import pandas as pd\n",
        "import matplotlib.pyplot as plt"
      ]
    },
    {
      "cell_type": "code",
      "execution_count": null,
      "metadata": {
        "id": "QyKNzfKLJ8tg"
      },
      "outputs": [],
      "source": [
        "# SPY -->  SNP500\n",
        "df = pd.read_csv(r'\\Users\\user\\Downloads\\SPY.Last.txt')"
      ]
    },
    {
      "cell_type": "code",
      "execution_count": null,
      "metadata": {
        "scrolled": true,
        "id": "tOFpu5hbJ8tg"
      },
      "outputs": [],
      "source": [
        "df"
      ]
    },
    {
      "cell_type": "code",
      "execution_count": null,
      "metadata": {
        "id": "niYwMqwUJ8tg"
      },
      "outputs": [],
      "source": []
    },
    {
      "cell_type": "markdown",
      "metadata": {
        "id": "nfYVf80nJ8tg"
      },
      "source": [
        "df = pd.read_csv(r'\\Users\\user\\Downloads\\Binance_BTCUSDT_d.csv')"
      ]
    },
    {
      "cell_type": "markdown",
      "metadata": {
        "id": "c1e2oPO6J8tg"
      },
      "source": [
        "df"
      ]
    },
    {
      "cell_type": "code",
      "execution_count": null,
      "metadata": {
        "id": "dtqoqXG0J8tg"
      },
      "outputs": [],
      "source": [
        "df = pd.read_csv(r'\\Users\\user\\Downloads\\all_stocks_5yr.csv')"
      ]
    },
    {
      "cell_type": "code",
      "execution_count": null,
      "metadata": {
        "scrolled": true,
        "id": "nf8Nh_K5J8tg"
      },
      "outputs": [],
      "source": [
        "df"
      ]
    },
    {
      "cell_type": "code",
      "execution_count": null,
      "metadata": {
        "scrolled": true,
        "id": "x48DYAi_J8th"
      },
      "outputs": [],
      "source": [
        "df['dt_str'] = df['date'] +'-' +df['Name']"
      ]
    },
    {
      "cell_type": "code",
      "execution_count": null,
      "metadata": {
        "id": "fU58MS-2J8th"
      },
      "outputs": [],
      "source": [
        "df"
      ]
    },
    {
      "cell_type": "code",
      "execution_count": null,
      "metadata": {
        "id": "Usfh9rDXJ8th"
      },
      "outputs": [],
      "source": [
        "df['dt'] = pd.to_datetime(df['close'])"
      ]
    },
    {
      "cell_type": "code",
      "execution_count": null,
      "metadata": {
        "id": "Gw-vczxoJ8th"
      },
      "outputs": [],
      "source": [
        "# df['dt_str'] = df['Date'] +'-' +df['Time']\n",
        "# df['dt'] = pd.to_datetime(df['dt_str'])"
      ]
    },
    {
      "cell_type": "code",
      "execution_count": null,
      "metadata": {
        "id": "rOYEw9cKJ8th"
      },
      "outputs": [],
      "source": [
        "df"
      ]
    },
    {
      "cell_type": "code",
      "execution_count": null,
      "metadata": {
        "id": "L6y3MmoZJ8th"
      },
      "outputs": [],
      "source": [
        "df.to_csv('SPY.csv') # save the info on new file 'spy.csv'"
      ]
    },
    {
      "cell_type": "code",
      "execution_count": null,
      "metadata": {
        "scrolled": true,
        "id": "bMYN6u5mJ8th"
      },
      "outputs": [],
      "source": [
        "df[:10000].plot(y='close')"
      ]
    },
    {
      "cell_type": "markdown",
      "metadata": {
        "id": "-YTe0GqzJ8th"
      },
      "source": [
        "שימוש באס אמ איי לתחזית"
      ]
    },
    {
      "cell_type": "code",
      "execution_count": null,
      "metadata": {
        "id": "3gnCbdUeJ8th"
      },
      "outputs": [],
      "source": [
        "df['sma150'] = df['close'].rolling(150).mean()\n",
        "df['sma15'] = df['close'].rolling(15).mean()"
      ]
    },
    {
      "cell_type": "code",
      "execution_count": null,
      "metadata": {
        "id": "GTsp2tinJ8th"
      },
      "outputs": [],
      "source": [
        "ax = df[300:500].plot(y='close')\n",
        "df[300:500].plot(y='sma150',ax=ax,color='red')\n",
        "df[300:500].plot(y='sma15',ax=ax,color='green')"
      ]
    },
    {
      "cell_type": "code",
      "execution_count": null,
      "metadata": {
        "id": "I47jet6GJ8th"
      },
      "outputs": [],
      "source": []
    },
    {
      "cell_type": "markdown",
      "metadata": {
        "id": "AiAErycmJ8th"
      },
      "source": [
        "SHIFT שימוש ב"
      ]
    },
    {
      "cell_type": "code",
      "execution_count": null,
      "metadata": {
        "id": "yYXJ_DgrJ8th"
      },
      "outputs": [],
      "source": [
        "df.iloc[200:300][['close','sma150','sma15']]"
      ]
    },
    {
      "cell_type": "code",
      "execution_count": null,
      "metadata": {
        "id": "nnSbubCLJ8th"
      },
      "outputs": [],
      "source": [
        "df['close']"
      ]
    },
    {
      "cell_type": "code",
      "execution_count": null,
      "metadata": {
        "id": "gMgehrgZJ8th"
      },
      "outputs": [],
      "source": [
        "df['close'].shift(1)"
      ]
    },
    {
      "cell_type": "code",
      "execution_count": null,
      "metadata": {
        "id": "oUh7b-RRJ8th"
      },
      "outputs": [],
      "source": [
        "df[200:]"
      ]
    },
    {
      "cell_type": "markdown",
      "metadata": {
        "id": "X0EDpX9cJ8th"
      },
      "source": [
        "חישוב השגיאה"
      ]
    },
    {
      "cell_type": "code",
      "execution_count": null,
      "metadata": {
        "id": "tqXasQjgJ8th"
      },
      "outputs": [],
      "source": [
        "df[:200]"
      ]
    },
    {
      "cell_type": "code",
      "execution_count": null,
      "metadata": {
        "id": "v0plyuLDJ8th"
      },
      "outputs": [],
      "source": [
        "df[200:]"
      ]
    },
    {
      "cell_type": "code",
      "execution_count": null,
      "metadata": {
        "id": "QaQ178KOJ8th"
      },
      "outputs": [],
      "source": [
        "df = df[200:]"
      ]
    },
    {
      "cell_type": "code",
      "execution_count": null,
      "metadata": {
        "id": "C79ZQFAoJ8th"
      },
      "outputs": [],
      "source": [
        "(df['close'].shift(-1) - df['sma150'])"
      ]
    },
    {
      "cell_type": "markdown",
      "metadata": {
        "id": "pSkLi2-xJ8th"
      },
      "source": [
        "(()^2)"
      ]
    },
    {
      "cell_type": "code",
      "execution_count": null,
      "metadata": {
        "id": "wwDflszHJ8th"
      },
      "outputs": [],
      "source": []
    },
    {
      "cell_type": "markdown",
      "metadata": {
        "id": "BcNa9rDEJ8th"
      },
      "source": [
        "השוואה בין השגיאות השונות"
      ]
    },
    {
      "cell_type": "code",
      "execution_count": null,
      "metadata": {
        "id": "ifBjTzZSJ8th"
      },
      "outputs": [],
      "source": [
        "df['error_sma150'] = (df['close'].shift(-1) - df['sma150'])\n",
        "df['error_sma15'] = (df['close'].shift(-1) - df['sma15'])\n",
        "df['error_last'] = (df['close'].shift(-1) - df['close'])"
      ]
    },
    {
      "cell_type": "code",
      "execution_count": null,
      "metadata": {
        "id": "lNVQ1gP5J8th"
      },
      "outputs": [],
      "source": [
        "sma150_error = (df['error_sma150'] * df['error_sma150']).mean() ** 0.5\n",
        "sma15_error = (df['error_sma15'] ** 2).mean() ** 0.5\n",
        "last_error = (df['error_last'] ** 2).mean() ** 0.5"
      ]
    },
    {
      "cell_type": "code",
      "execution_count": null,
      "metadata": {
        "id": "c0TZwp1_J8ti"
      },
      "outputs": [],
      "source": [
        "sma150_error"
      ]
    },
    {
      "cell_type": "code",
      "execution_count": null,
      "metadata": {
        "id": "25KKeWUdJ8ti"
      },
      "outputs": [],
      "source": [
        "sma15_error"
      ]
    },
    {
      "cell_type": "code",
      "execution_count": null,
      "metadata": {
        "id": "O3gm6JliJ8ti"
      },
      "outputs": [],
      "source": [
        "last_error"
      ]
    },
    {
      "cell_type": "markdown",
      "metadata": {
        "id": "Aupps2qqJ8ti"
      },
      "source": [
        "# תחזית של העתיד הרחוק יותר"
      ]
    },
    {
      "cell_type": "code",
      "execution_count": null,
      "metadata": {
        "id": "i7MRnidQJ8ti"
      },
      "outputs": [],
      "source": []
    },
    {
      "cell_type": "markdown",
      "metadata": {
        "id": "iWeD8vX9J8ti"
      },
      "source": [
        "ARIMA שימוש ב"
      ]
    },
    {
      "cell_type": "code",
      "execution_count": null,
      "metadata": {
        "id": "kdS4Sjf5J8ti"
      },
      "outputs": [],
      "source": [
        "pip install pmdarima"
      ]
    },
    {
      "cell_type": "markdown",
      "metadata": {
        "id": "xtYsihbcJ8ti"
      },
      "source": [
        "#ARIMA\n",
        "#Three Parts\n",
        "#AR --> Autoregresive"
      ]
    },
    {
      "cell_type": "code",
      "execution_count": null,
      "metadata": {
        "id": "Z95uLrIhJ8ti"
      },
      "outputs": [],
      "source": [
        "import pmdarima as pm\n",
        "from pmdarima.model_selection import train_test_split\n",
        "import numpy as np\n",
        "import matplotlib.pyplot as plt\n",
        "\n",
        "# Load/split your data\n",
        "y = pm.datasets.load_wineind()\n",
        "train, test = train_test_split(y, train_size=150)\n",
        "\n",
        "# Fit your model\n",
        "model = pm.auto_arima(train, seasonal=True, m=12)\n",
        "\n",
        "# make your forecasts\n",
        "forecasts = model.predict(test.shape[0])  # predict N steps into the future\n",
        "\n",
        "# Visualize the forecasts (blue=train, green=forecasts)\n",
        "x = np.arange(y.shape[0])\n",
        "plt.plot(x[:150], train, c='blue')\n",
        "plt.plot(x[150:], forecasts, c='green')\n",
        "plt.show()"
      ]
    },
    {
      "cell_type": "markdown",
      "metadata": {
        "id": "0mClW0uAJ8ti"
      },
      "source": [
        "#ARIMA\n",
        "#Three Parts\n",
        "#AR --> Autoregresive\n",
        "#p: number of autoregressive terms (AR order)\n",
        "# Intergrated \n",
        "#d: number of nonseasonal differences (differencing order)\n",
        "#Moving Average\n",
        "#q: number of moving-average terms (MA order)"
      ]
    },
    {
      "cell_type": "markdown",
      "metadata": {
        "id": "YyKxH_FOJ8ti"
      },
      "source": [
        "שימוש בארימה למניות"
      ]
    },
    {
      "cell_type": "code",
      "execution_count": null,
      "metadata": {
        "id": "Qmzhou3SJ8ti"
      },
      "outputs": [],
      "source": [
        "df.iloc[:200]['close'].plot()"
      ]
    },
    {
      "cell_type": "code",
      "execution_count": null,
      "metadata": {
        "id": "FDeo8e4aJ8ti"
      },
      "outputs": [],
      "source": [
        "x = (df.iloc[:200]['close'] -240) * 100\n",
        "train = x[:150]\n",
        "model = pm.auto_arima(train, seasonal=True)"
      ]
    },
    {
      "cell_type": "code",
      "execution_count": null,
      "metadata": {
        "id": "Wep9WhlKJ8ti"
      },
      "outputs": [],
      "source": [
        "model"
      ]
    },
    {
      "cell_type": "code",
      "execution_count": null,
      "metadata": {
        "id": "en1hqBfbJ8ti"
      },
      "outputs": [],
      "source": [
        "test = x[150:200]\n",
        "forecasts = model.predict(50)  # predict N steps into the future\n",
        "\n",
        "# Visualize the forecasts (blue=train, green=forecasts)\n",
        "plt.plot(range(150), train, c='blue')\n",
        "plt.plot(range(150,200), forecasts, c='green')\n",
        "plt.show()"
      ]
    },
    {
      "cell_type": "code",
      "execution_count": null,
      "metadata": {
        "id": "1Ju4o0xMJ8ti"
      },
      "outputs": [],
      "source": [
        "model"
      ]
    },
    {
      "cell_type": "markdown",
      "metadata": {
        "id": "K38tB2a3J8ti"
      },
      "source": [
        "https://youtu.be/RD_jR8kPhsE"
      ]
    },
    {
      "cell_type": "markdown",
      "metadata": {
        "id": "npfH340xJ8ti"
      },
      "source": [
        "# פרק_עשר --- מבוא לרשתות נירוניים NN"
      ]
    },
    {
      "cell_type": "markdown",
      "metadata": {
        "id": "8n1Yxch_J8ti"
      },
      "source": [
        "NN  מה זה"
      ]
    },
    {
      "cell_type": "markdown",
      "metadata": {
        "id": "m05NlJ8QJ8ti"
      },
      "source": [
        "רשת נירונים מלאה"
      ]
    },
    {
      "cell_type": "markdown",
      "metadata": {
        "id": "ubnc98ONJ8ti"
      },
      "source": [
        "IRIS שימוש ברשת ניורנים לסיווג"
      ]
    },
    {
      "cell_type": "markdown",
      "metadata": {
        "id": "SoL0u4DmJ8ti"
      },
      "source": [
        "רשת הניורנים כמודל סיווג - קלסיפיקציה"
      ]
    },
    {
      "cell_type": "markdown",
      "metadata": {
        "id": "yw_35FUGJ8ti"
      },
      "source": [
        "DNN מה זה רשתות ניורונים עמוקות"
      ]
    },
    {
      "cell_type": "markdown",
      "metadata": {
        "id": "5guxP9zBJ8ti"
      },
      "source": [
        "איך מאמנים רשתות ניורנים"
      ]
    },
    {
      "cell_type": "markdown",
      "metadata": {
        "id": "bQR6UIguJ8tj"
      },
      "source": [
        "# פרק אחד עשרה - RNN רשתות ניורנים חוזרות"
      ]
    },
    {
      "cell_type": "markdown",
      "metadata": {
        "id": "iP1wEOWpJ8tj"
      },
      "source": [
        "RNN"
      ]
    },
    {
      "cell_type": "markdown",
      "metadata": {
        "id": "uJAyheUDJ8tj"
      },
      "source": [
        "כרשת עומק אין סופי RNN"
      ]
    },
    {
      "cell_type": "markdown",
      "metadata": {
        "id": "7yrG56jSJ8tj"
      },
      "source": [
        "הזיכרון של רשת חוזרת"
      ]
    },
    {
      "cell_type": "markdown",
      "metadata": {
        "id": "SNVhy2q4J8tj"
      },
      "source": [
        "תהליך האימון של הרשת"
      ]
    },
    {
      "cell_type": "markdown",
      "metadata": {
        "id": "xLGUJvltJ8tj"
      },
      "source": [
        "הרשת המשוררת"
      ]
    },
    {
      "cell_type": "markdown",
      "metadata": {
        "id": "SJhXM-A7J8tj"
      },
      "source": [
        "הבנת הרשת"
      ]
    },
    {
      "cell_type": "markdown",
      "metadata": {
        "id": "cBIDQu35J8tj"
      },
      "source": [
        "# שיעור שתיים עשרה - יצירת רשת למידע מהבורסה"
      ]
    },
    {
      "cell_type": "markdown",
      "metadata": {
        "id": "Ca7rZd2cJ8tj"
      },
      "source": [
        "TensorFlow התקנה של"
      ]
    },
    {
      "cell_type": "code",
      "execution_count": null,
      "metadata": {
        "id": "N8POMLBvJ8tj"
      },
      "outputs": [],
      "source": [
        "import pandas as pd"
      ]
    },
    {
      "cell_type": "code",
      "execution_count": null,
      "metadata": {
        "id": "gofqJXzgJ8tj"
      },
      "outputs": [],
      "source": [
        "! pip install keras"
      ]
    },
    {
      "cell_type": "code",
      "execution_count": null,
      "metadata": {
        "scrolled": true,
        "id": "2qEON4lDJ8tj"
      },
      "outputs": [],
      "source": [
        "pip install tensorflow"
      ]
    },
    {
      "cell_type": "code",
      "execution_count": null,
      "metadata": {
        "id": "WmWzct-JJ8tj"
      },
      "outputs": [],
      "source": [
        "import math\n",
        "import matplotlib.pyplot as plt\n",
        "import keras\n",
        "import pandas as pd\n",
        "import numpy as np\n",
        "from keras.models import Sequential\n",
        "from keras.layers import Dense\n",
        "from keras.layers import LSTM\n",
        "from keras.layers import Dropout\n",
        "from sklearn.preprocessing import MinMaxScaler\n",
        "from sklearn.metrics import mean_squared_error\n",
        "from sklearn.model_selection import train_test_split\n",
        "from keras.callbacks import EarlyStopping"
      ]
    },
    {
      "cell_type": "markdown",
      "metadata": {
        "id": "BhsIXWwpJ8tj"
      },
      "source": [
        "conda install tensorflow"
      ]
    },
    {
      "cell_type": "code",
      "execution_count": null,
      "metadata": {
        "id": "kvJjRP58J8tj"
      },
      "outputs": [],
      "source": [
        "df = pd.read_csv(r'\\Users\\user\\Downloads\\all_stocks_5yr.csv')\n",
        "df = df[df['Name'] == 'MSFT']"
      ]
    },
    {
      "cell_type": "markdown",
      "metadata": {
        "id": "b5pac3waJ8tj"
      },
      "source": [
        "בחירה של גודל החלון"
      ]
    },
    {
      "cell_type": "code",
      "execution_count": null,
      "metadata": {
        "id": "s8Q7OEK4J8tj"
      },
      "outputs": [],
      "source": [
        "df['open'].iloc[500:601].plot()\n",
        "\n",
        "window = 100"
      ]
    },
    {
      "cell_type": "markdown",
      "metadata": {
        "id": "Mv-5YG0eJ8tj"
      },
      "source": [
        "חלוקה לאימון ובדיקה"
      ]
    },
    {
      "cell_type": "code",
      "execution_count": null,
      "metadata": {
        "id": "ZlCpMMslJ8tj"
      },
      "outputs": [],
      "source": [
        "train = df['close'].iloc[:1000]\n",
        "test = df['close'].iloc[1000:]"
      ]
    },
    {
      "cell_type": "code",
      "execution_count": null,
      "metadata": {
        "id": "EEDimdTvJ8tj"
      },
      "outputs": [],
      "source": [
        "df.count()"
      ]
    },
    {
      "cell_type": "code",
      "execution_count": null,
      "metadata": {
        "id": "Cd6oBWPyJ8tj"
      },
      "outputs": [],
      "source": []
    },
    {
      "cell_type": "code",
      "execution_count": null,
      "metadata": {
        "id": "2kVbXGyOJ8tj"
      },
      "outputs": [],
      "source": [
        "df[200:]"
      ]
    },
    {
      "cell_type": "code",
      "execution_count": null,
      "metadata": {
        "id": "U1d3hindJ8tj"
      },
      "outputs": [],
      "source": []
    },
    {
      "cell_type": "markdown",
      "metadata": {
        "id": "an6l0TG2J8tj"
      },
      "source": [
        "הכנה של המידע לאימון"
      ]
    },
    {
      "cell_type": "code",
      "execution_count": null,
      "metadata": {
        "id": "irCOTiLmJ8tj"
      },
      "outputs": [],
      "source": [
        "shift = train.min()\n",
        "scale = (train - shift).max()\n",
        "(train - shift) / scale"
      ]
    },
    {
      "cell_type": "code",
      "execution_count": null,
      "metadata": {
        "id": "Cmt_XDGLJ8tk"
      },
      "outputs": [],
      "source": [
        "sc = MinMaxScaler()\n",
        "norm_train = sc.fit_transform(train.values.reshape(-1,1))\n",
        "\n",
        "window = 100 \n",
        "train_size = 1000\n",
        "\n",
        "\n",
        "train_for_nn = []\n",
        "for i in range(0,train_size-window):\n",
        "    train_for_nn.append(norm_train[i:(i+window)])"
      ]
    },
    {
      "cell_type": "code",
      "execution_count": null,
      "metadata": {
        "id": "6DNxlEqBJ8tk"
      },
      "outputs": [],
      "source": [
        "train_for_nn"
      ]
    },
    {
      "cell_type": "markdown",
      "metadata": {
        "id": "BfvFkf2jJ8tk"
      },
      "source": [
        "המשך הכנת המידע"
      ]
    },
    {
      "cell_type": "code",
      "execution_count": null,
      "metadata": {
        "id": "xtS22ohPJ8tk"
      },
      "outputs": [],
      "source": [
        "sc = MinMaxScaler()\n",
        "norm_train = sc.fit_transform(train.values.reshape(-1,1))\n",
        "\n",
        "window = 100\n",
        "train_size = 1000\n",
        "\n",
        "\n",
        "train_for_nn = []\n",
        "y_train_for_nn = []\n",
        "for i in range(0,train_size-window):\n",
        "    train_for_nn.append(norm_train[i:(i+window)])\n",
        "    y_train_for_nn.append(norm_train[i+window])\n",
        "train_for_nn = np.array(train_for_nn)\n",
        "y_train_for_nn = np.array(y_train_for_nn)"
      ]
    },
    {
      "cell_type": "markdown",
      "metadata": {
        "id": "AMciY0UhJ8tk"
      },
      "source": [
        "אימון המודל"
      ]
    },
    {
      "cell_type": "code",
      "execution_count": null,
      "metadata": {
        "scrolled": true,
        "id": "TtJSvX2mJ8tk"
      },
      "outputs": [],
      "source": [
        "model = Sequential()\n",
        "model.add(LSTM(units=50, input_shape= (window, 1)))\n",
        "model.add(Dropout(0.2))\n",
        "model.add(Dense(units = 1))\n",
        "model.compile(optimizer = 'adam', loss = 'mean_squared_error')\n",
        "\n",
        "model.fit(train_for_nn, y_train_for_nn, epochs = 200, batch_size = 32)"
      ]
    },
    {
      "cell_type": "markdown",
      "metadata": {
        "id": "bBpkNGyQJ8tk"
      },
      "source": [
        "model = Sequential()\n",
        "model.add(LSTM(units=50, input_shape= (window, 1)))\n",
        "model.add(Dropout(0.2))\n",
        "model.add(Dense(units = 1))\n",
        "model.compile(optimizer = 'adam', loss = 'mean_squared_error')\n",
        "\n",
        "model.fit(train_for_nn, y_train_for_nn, epochs = 200, batch_size = 32)"
      ]
    },
    {
      "cell_type": "markdown",
      "metadata": {
        "id": "FjwqPVxNJ8tk"
      },
      "source": [
        "ויזואליזציה של התוצאות"
      ]
    },
    {
      "cell_type": "markdown",
      "metadata": {
        "id": "okqH3XByJ8tk"
      },
      "source": [
        "pred_norm = model.predict(train_for_nn)\n",
        "pred = sc.inverse_transfrom(pred_norm)"
      ]
    },
    {
      "cell_type": "code",
      "execution_count": null,
      "metadata": {
        "scrolled": true,
        "id": "mD8fpQLWJ8tk"
      },
      "outputs": [],
      "source": [
        "pred_norm = model.predict(train_for_nn)\n",
        "pred = sc.inverse_transform(pred_norm)"
      ]
    },
    {
      "cell_type": "code",
      "execution_count": null,
      "metadata": {
        "scrolled": true,
        "id": "fqTLmpIGJ8tk"
      },
      "outputs": [],
      "source": [
        "ax = plt.plot(pred,color='red')\n",
        "ax = plt.plot(sc.inverse_transfrom(y_trian_for_nn),color='blue')"
      ]
    },
    {
      "cell_type": "code",
      "execution_count": null,
      "metadata": {
        "id": "fY94samMJ8tk"
      },
      "outputs": [],
      "source": [
        "ax = plt.plot(pred,color='red')\n",
        "ax = plt.plot(sc.inverse_transform(y_train_for_nn),color='blue')"
      ]
    },
    {
      "cell_type": "markdown",
      "metadata": {
        "id": "1xrx0fy2J8tl"
      },
      "source": [
        "TEST בדיקה על ה- "
      ]
    },
    {
      "cell_type": "markdown",
      "metadata": {
        "id": "gH-gi7UNJ8tl"
      },
      "source": [
        "sc = MinMaxScaler()\n",
        "norm_test = sc.fit_transform(test.values.reshape(-1,1))\n",
        "\n",
        "window = 100\n",
        "test_size = norm_test.shape[0]\n",
        "\n",
        "\n",
        "test_for_nn = []\n",
        "y_test_for_nn = []\n",
        "for i in range(0,test_size-window):\n",
        "    test_for_nn.append(norm_test[i:(i+window)])\n",
        "    y_test_for_nn.append(norm_test[i+window])\n",
        "test_for_nn = np.array(test_for_nn)\n",
        "y_test_for_nn = np.array(y_test_for_nn)"
      ]
    },
    {
      "cell_type": "markdown",
      "metadata": {
        "id": "slBtH2-cJ8tl"
      },
      "source": [
        "sc = MinMaxScaler()\n",
        "norm_test = sc.fit_transform(test.values.reshape(-1,1))\n",
        "\n",
        "window = 100\n",
        "test_size = norm_test.shape[0]\n",
        "\n",
        "\n",
        "test_for_nn = []\n",
        "y_test_for_nn = []\n",
        "for i nin range(0,test_size-window):\n",
        "    test_for_nn.append(norm_test[i:(i+window)])\n",
        "    y_test_for_nn.append(norm_test[i+window])\n",
        "test_for_nn = np.array(test_for_nn)\n",
        "y_test_for_nn = np.array(y_test_for_nn)"
      ]
    },
    {
      "cell_type": "code",
      "execution_count": null,
      "metadata": {
        "id": "xS6Q8IVyJ8tl"
      },
      "outputs": [],
      "source": [
        "sc = MinMaxScaler()\n",
        "norm_test = sc.fit_transform(test.values.reshape(-1,1))\n",
        "\n",
        "window = 100\n",
        "test_size = norm_test.shape[0]\n",
        "\n",
        "\n",
        "test_for_nn = []\n",
        "y_test_for_nn = []\n",
        "for i in range(0,test_size-window):\n",
        "    test_for_nn.append(norm_test[i:(i+window)])\n",
        "    y_test_for_nn.append(norm_test[i+window])\n",
        "test_for_nn = np.array(test_for_nn)\n",
        "y_test_for_nn = np.array(y_test_for_nn)"
      ]
    },
    {
      "cell_type": "code",
      "execution_count": null,
      "metadata": {
        "id": "jQN-DSvXJ8tl"
      },
      "outputs": [],
      "source": [
        "test_pred_norm = model.predict(test_for_nn)\n",
        "test_pred = sc.inverse_transform(test_pred_norm)\n",
        "ax = plt.plot(test_pred,color='red')\n",
        "ax = plt.plot(sc.inverse_transform(y_test_for_nn),color='blue')"
      ]
    },
    {
      "cell_type": "markdown",
      "metadata": {
        "id": "JhHjsJhoJ8tl"
      },
      "source": [
        "test_pred_norm = model.predict(test_for_nn)\n",
        "test_pred = sc.inverse_teansfrom(test-pred_norm)\n",
        "ax = plt.plot(test_pred,color='red')\n",
        "ax = plt.plot(sc.inverse_transfrom(t_test_for_nn),color='blue')"
      ]
    },
    {
      "cell_type": "code",
      "execution_count": null,
      "metadata": {
        "id": "eDZRVWhRJ8tl"
      },
      "outputs": [],
      "source": []
    },
    {
      "cell_type": "markdown",
      "metadata": {
        "id": "HcR87-4pJ8tl"
      },
      "source": [
        "# פרק 13 LSTM מתקדם"
      ]
    },
    {
      "cell_type": "code",
      "execution_count": null,
      "metadata": {
        "id": "gtZctCCiJ8tl"
      },
      "outputs": [],
      "source": [
        "import math\n",
        "import matplotlib.pyplot as plt\n",
        "import keras\n",
        "import pandas as pd\n",
        "import numpy as np\n",
        "from keras.models import Sequential\n",
        "from keras.layers import Dense\n",
        "from keras.layers import LSTM\n",
        "from keras.layers import Dropout\n",
        "from sklearn.preprocessing import MinMaxScaler\n",
        "from sklearn.metrics import mean_squared_error\n",
        "from sklearn.model_selection import train_test_split\n",
        "from keras.callbacks import EarlyStopping"
      ]
    },
    {
      "cell_type": "markdown",
      "metadata": {
        "id": "qXXXDTaHJ8tl"
      },
      "source": [
        "df = pd.read_csv(r'\\Users\\user\\Downloads\\all_stocks_5yr.csv')"
      ]
    },
    {
      "cell_type": "code",
      "execution_count": null,
      "metadata": {
        "id": "zY716w_hJ8tl"
      },
      "outputs": [],
      "source": [
        "df = pd.read_csv(r'\\Users\\user\\Downloads\\all_stocks_5yr.csv')\n",
        "df['dt'] = pd.to_datetime(df['date'])"
      ]
    },
    {
      "cell_type": "markdown",
      "metadata": {
        "id": "LevUV8n-J8tl"
      },
      "source": [
        "מנרמלים את הנתונים"
      ]
    },
    {
      "cell_type": "code",
      "execution_count": null,
      "metadata": {
        "id": "jpfpAkltJ8tl"
      },
      "outputs": [],
      "source": [
        "df = df[df['Name'] == 'AAL']\n",
        "df.sort_values('dt', inplace = True)\n",
        "sc_one = MinMaxScaler()\n",
        "x_norm_one = sc_one.fit_transform(df['close'].values.reshape(-1,1))"
      ]
    },
    {
      "cell_type": "markdown",
      "metadata": {
        "id": "L_5r3IBSJ8tl"
      },
      "source": [
        "שימוש בחמש הנתונים היומים"
      ]
    },
    {
      "cell_type": "code",
      "execution_count": null,
      "metadata": {
        "id": "atlabPBuJ8tl"
      },
      "outputs": [],
      "source": [
        "norm_columns = ['open', 'high', 'low', 'close', 'volume']\n",
        "sc_five =MinMaxScaler()\n",
        "x_norm_five = sc_five.fit_transform(df[norm_columns].values)"
      ]
    },
    {
      "cell_type": "code",
      "execution_count": null,
      "metadata": {
        "scrolled": true,
        "id": "8pEU4yoeJ8tl"
      },
      "outputs": [],
      "source": [
        "pd.DataFrame(x_norm_five)"
      ]
    },
    {
      "cell_type": "markdown",
      "metadata": {
        "id": "LHlRDLc1J8tl"
      },
      "source": [
        "# בניית המודל"
      ]
    },
    {
      "cell_type": "code",
      "execution_count": null,
      "metadata": {
        "id": "zCjNArFFJ8tl"
      },
      "outputs": [],
      "source": [
        "window = 30 \n",
        "train_size = 1000\n",
        "# validation_test = 259"
      ]
    },
    {
      "cell_type": "code",
      "execution_count": null,
      "metadata": {
        "id": "EYL2m1AuJ8tl"
      },
      "outputs": [],
      "source": [
        "model = Sequential()\n",
        "model.add(LSTM(units=50, input_shape= (window,5)))\n",
        "model.add(Dropout(0.2))\n",
        "model.add(Dense(units = 1))\n",
        "model.compile(optimizer = 'adam',loss = 'mean_squared_error')"
      ]
    },
    {
      "cell_type": "markdown",
      "metadata": {
        "id": "PWFUh9gNJ8tm"
      },
      "source": [
        "train_for_nn = []\n",
        "y_train_for_nn =[]\n",
        "for i in range(0,train_size-window):\n",
        "    train_for_nn.append(x_norm_train[i:(i+window),:])\n",
        "    y_train_for_nn.append(x_norm_train[i+window, 3])\n",
        "train_for_nn = np.array(train_for_nn)\n",
        "y_train_for_nn = np.array(y_train_for_nn)\n",
        "model.fit(train_for_nn, y_train_for_nn, epochs = 100, batch_size = 32"
      ]
    },
    {
      "cell_type": "code",
      "execution_count": null,
      "metadata": {
        "id": "goZq-pEjJ8tm"
      },
      "outputs": [],
      "source": [
        "train_for_nn = []\n",
        "y_train_for_nn = []\n",
        "for i in range(0,train_size-window):\n",
        "    train_for_nn.append(x_norm_five[i:(i+window),:4])\n",
        "    y_train_for_nn.append(x_norm_five[i+window, 3])\n",
        "train_for_nn = np.array(train_for_nn)\n",
        "y_train_for_nn = np.array(y_train_for_nn)\n",
        "model.fit(train_for_nn, y_train_for_nn, epochs = 300, batch_size = 32)"
      ]
    },
    {
      "cell_type": "markdown",
      "metadata": {
        "id": "jPaPXg4eJ8tm"
      },
      "source": [
        "קבלת התחזית של המודל"
      ]
    },
    {
      "cell_type": "code",
      "execution_count": null,
      "metadata": {
        "id": "c-WUOi9XJ8tm"
      },
      "outputs": [],
      "source": [
        "# model.predict(trian_for_nn[:1])"
      ]
    },
    {
      "cell_type": "markdown",
      "metadata": {
        "id": "2Qsxv9M2J8tm"
      },
      "source": [
        "# model.predict(trian_for_nn[:1])\n",
        "trian_for_nn[:1]"
      ]
    },
    {
      "cell_type": "markdown",
      "metadata": {
        "id": "wUbdK4bvJ8tm"
      },
      "source": [
        "# model.predict(trian_for_nn[:1])\n",
        "trian_for_nn[0].shape"
      ]
    },
    {
      "cell_type": "markdown",
      "metadata": {
        "id": "BwHW3tI1J8tm"
      },
      "source": [
        "model.predict(trian_for_nn[:1])\n",
        "# trian_for_nn[0].shape"
      ]
    },
    {
      "cell_type": "markdown",
      "metadata": {
        "id": "foAc4SLFJ8tm"
      },
      "source": [
        "model.predict(trian_for_nn[:2])\n",
        "# trian_for_nn[0].shape"
      ]
    },
    {
      "cell_type": "markdown",
      "metadata": {
        "id": "va1w4wm6J8tm"
      },
      "source": [
        " נירמול הערכים שמתכתבים\\שמתאימים לעולם האמיתי"
      ]
    },
    {
      "cell_type": "markdown",
      "metadata": {
        "id": "PSud1M7EJ8tm"
      },
      "source": [
        "normed_pred = model.predict(train_for_nn[:2])\n",
        "sc_one.inverse_transform(normed_pred)"
      ]
    },
    {
      "cell_type": "markdown",
      "metadata": {
        "id": "b4-FQEz7J8tm"
      },
      "source": [
        "בחינת המודל"
      ]
    },
    {
      "cell_type": "code",
      "execution_count": null,
      "metadata": {
        "id": "5xtwyhH1J8tm"
      },
      "outputs": [],
      "source": [
        "test_for_nn = []\n",
        "y_test_for_nn = []\n",
        "\n",
        "\n",
        "for i in range(train_size-window, len(x_norm_five)-window):\n",
        "    test_for_nn.append(x_norm_five[i:(i+window),:4])\n",
        "    y_test_for_nn.append(x_norm_five[i+window, 3])\n",
        "    \n",
        "test_for_nn = np.array(test_for_nn)\n",
        "y_test_for_nn = np.array(y_test_for_nn)"
      ]
    },
    {
      "cell_type": "code",
      "execution_count": null,
      "metadata": {
        "id": "oucD7K91J8tm"
      },
      "outputs": [],
      "source": [
        "test_for_nn"
      ]
    },
    {
      "cell_type": "code",
      "execution_count": null,
      "metadata": {
        "id": "Pfn8l7oDJ8tm"
      },
      "outputs": [],
      "source": [
        "test_for_nn.shape"
      ]
    },
    {
      "cell_type": "code",
      "execution_count": null,
      "metadata": {
        "id": "pUpUOTxpJ8tm"
      },
      "outputs": [],
      "source": [
        "y_test_for_nn.shape"
      ]
    },
    {
      "cell_type": "code",
      "execution_count": null,
      "metadata": {
        "id": "D4JMRIElJ8tm"
      },
      "outputs": [],
      "source": [
        "test_for_nn = []\n",
        "y_test_for_nn = []\n",
        "\n",
        "\n",
        "for i in range(train_size-window, len(x_norm_five)-window):\n",
        "    test_for_nn.append(x_norm_five[i:(i+window),:4])\n",
        "    y_test_for_nn.append(x_norm_five[i+window, 3])\n",
        "    \n",
        "test_for_nn = np.array(test_for_nn)\n",
        "y_test_for_nn = np.array(y_test_for_nn)"
      ]
    },
    {
      "cell_type": "code",
      "execution_count": null,
      "metadata": {
        "id": "6ATrBDBSJ8tm"
      },
      "outputs": [],
      "source": [
        "norm_prediction = model.predict(test_for_nn)\n",
        "pred = sc_one.inverse_transform(norm_prediction)\n",
        "actual = sc_one.inverse_transform(y_test_for_nn.reshape(-1,1))"
      ]
    },
    {
      "cell_type": "code",
      "execution_count": null,
      "metadata": {
        "id": "1hv76XlUJ8tm"
      },
      "outputs": [],
      "source": [
        "df = pd.DataFrame(pred,columns=['pred'])\n",
        "df['actual'] = actual\n",
        "ax = df.plot(y='pred')\n",
        "df.plot(y='actual',ax=ax,color='red')"
      ]
    },
    {
      "cell_type": "markdown",
      "metadata": {
        "id": "YcEezPwUJ8tn"
      },
      "source": [
        "חישוב השגיאה הכללית"
      ]
    },
    {
      "cell_type": "markdown",
      "metadata": {
        "id": "LI8NgKDtJ8tn"
      },
      "source": [
        "squered_error = ((df['actual'] - df['pred'])**2).mean()\n",
        "squered_error ** 0.5"
      ]
    },
    {
      "cell_type": "code",
      "execution_count": null,
      "metadata": {
        "id": "IB5W8XG-J8tn"
      },
      "outputs": [],
      "source": [
        "squered_error = ((df['actual'] - df['pred'])**2).mean()\n",
        "squered_error ** 0.5"
      ]
    },
    {
      "cell_type": "markdown",
      "metadata": {
        "id": "NrzVTiGsJ8tn"
      },
      "source": [
        "במסחר ML-DL  פרק 14 שימוש ב"
      ]
    },
    {
      "cell_type": "markdown",
      "metadata": {
        "id": "3BnRnfFgJ8tn"
      },
      "source": [
        "לפרוטפוליו ML שימוש ב"
      ]
    },
    {
      "cell_type": "markdown",
      "metadata": {
        "id": "OaSV8jj-J8tn"
      },
      "source": [
        "Moving Train Test שימוש ב"
      ]
    },
    {
      "cell_type": "markdown",
      "metadata": {
        "id": "v__YJlLGJ8tn"
      },
      "source": [
        "LSTMשימוש נכון ב  "
      ]
    },
    {
      "cell_type": "markdown",
      "metadata": {
        "id": "sHZFtfmvJ8tn"
      },
      "source": [
        "BT בדיקת האלגוריתם בעזרת"
      ]
    },
    {
      "cell_type": "code",
      "execution_count": null,
      "metadata": {
        "id": "tN9m3axEJ8tn"
      },
      "outputs": [],
      "source": [
        "pip install backtrader"
      ]
    },
    {
      "cell_type": "code",
      "execution_count": null,
      "metadata": {
        "scrolled": true,
        "id": "5zJ6-pOpJ8tn"
      },
      "outputs": [],
      "source": [
        "from datetime import datetime\n",
        "import backtrader as bt\n",
        "import pandas as pd\n",
        "import yfinance as yf\n",
        "import matplotlib.pyplot as plt\n",
        "\n",
        "%matplotlib inline"
      ]
    },
    {
      "cell_type": "markdown",
      "metadata": {
        "id": "PYyjbHCVJ8tn"
      },
      "source": [
        "# stock = 'GOOG'\n",
        "# contract = yf.Ticker(stock)\n",
        "# contract_history = contract.history(start ='2010-01-01',end='2020-06-01',  interval='1d')\n",
        "# contract_history.to_csv(stock + '.csv')\n",
        "contract_history = pd.read_csv(stock + '.csv')\n",
        "contract_history['dt'] = pd.to_datetime(contract_history['Date'])\n",
        "contract_history = contract_history.set_index('dt')"
      ]
    },
    {
      "cell_type": "code",
      "execution_count": null,
      "metadata": {
        "id": "YTL_i2YvJ8tn"
      },
      "outputs": [],
      "source": [
        "stock = 'GOOG'\n",
        "# contract = yf.Ticker(stock)\n",
        "# contract_history = contract.history(start ='2010-01-01',end='2020-06-01',  interval='1d')\n",
        "# contract_history.to_csv(stock + '.csv')\n",
        "contract_history = pd.read_csv(stock + '.csv')\n",
        "contract_history['dt'] = pd.to_datetime(contract_history['Date'])\n",
        "contract_history = contract_history.set_index('dt')"
      ]
    },
    {
      "cell_type": "code",
      "execution_count": null,
      "metadata": {
        "id": "OXHnW4VVJ8tn"
      },
      "outputs": [],
      "source": [
        "#Params\n",
        "\n",
        "class SmaCross(bt.SignalStrategy):\n",
        "    params = (('fast',10),\n",
        "              ('slow',30),\n",
        "             )\n",
        "    def __init__(self):\n",
        "        self.sma_fast = bt.ind.SMA(period=self.params.fast)\n",
        "        self.sma_slow = bt.ind.SMA(period=self.params.slow)\n",
        "\n",
        "\n",
        "    def start(self):\n",
        "        pass\n",
        "\n",
        "    \n",
        "    def next(self):\n",
        "        if self.position.size == 0:\n",
        "            if self.sma_fast  > self.sma_slow:\n",
        "                self.buy()\n",
        "        elif self.position.size != 0:\n",
        "            if self.sma_fast < self.sma_slow:\n",
        "                self.sell()\n",
        "        \n",
        "    def stop(self):\n",
        "        pass \n",
        "#         print('End')\n",
        "        \n",
        "    def notify_order(self, order):\n",
        "        if order.status in [order.Completed]:\n",
        "            if order.isbuy():\n",
        "                pass\n",
        "            else:  # Sell\n",
        "                pass\n",
        "        "
      ]
    },
    {
      "cell_type": "markdown",
      "metadata": {
        "id": "d49sUFpoJ8to"
      },
      "source": [
        "אימון המודל החדש"
      ]
    },
    {
      "cell_type": "code",
      "execution_count": null,
      "metadata": {
        "id": "3QQIU2lzJ8to"
      },
      "outputs": [],
      "source": [
        "start_date = datetime(2018, 1, 1)\n",
        "end_date = datetime(2020, 1, 1)\n",
        "start_cash = 100000"
      ]
    },
    {
      "cell_type": "code",
      "execution_count": null,
      "metadata": {
        "id": "5MS4for2J8to"
      },
      "outputs": [],
      "source": [
        "cerebro = bt.Cerebro()\n",
        "cerebro.addstrategy(SmaCross, fast=10, slow = 30)\n",
        "data_pd = bt.feeds.PandasData(dataname = contract_history ,\n",
        "                                  fromdate=start_date,\n",
        "                                  todate=end_date)\n",
        "\n",
        "cerebro.adddata(data_pd)\n",
        "cerebro.addsizer(bt.sizers.PercentSizer, percents = 90)\n",
        "cerebro.addwriter(bt.WriterFile,out='temp.csv' ,csv=True)\n",
        "cerebro.broker.setcash(start_cash)\n",
        "print('Start value {:,.0f} At {}'.format(start_cash,start_date))\n",
        "cerebro.run()\n",
        "current_value = cerebro.getbroker().get_value()\n",
        "print('End value: {:,.0f} At: {}\\nChange in %: {:.2f}'.format(current_value,end_date,100*(current_value - start_cash)/start_cash))"
      ]
    },
    {
      "cell_type": "markdown",
      "metadata": {
        "id": "JJDwzI7HJ8to"
      },
      "source": [
        "שימוש במודל לתחזית"
      ]
    },
    {
      "cell_type": "code",
      "execution_count": null,
      "metadata": {
        "id": "1N-3JkFlJ8to"
      },
      "outputs": [],
      "source": [
        "import math\n",
        "import matplotlib.pyplot as plt\n",
        "import keras\n",
        "import pandas as pd\n",
        "import numpy as np\n",
        "from keras.models import Sequential\n",
        "from keras.layers import Dense\n",
        "from keras.layers import LSTM\n",
        "from keras.layers import Dropout\n",
        "from sklearn.preprocessing import MinMaxScaler\n",
        "from sklearn.metrics import mean_squared_error\n",
        "from sklearn.model_selection import train_test_split\n",
        "from keras.callbacks import EarlyStopping\n",
        "import datetime"
      ]
    },
    {
      "cell_type": "markdown",
      "metadata": {
        "id": "uaxqQx_HJ8to"
      },
      "source": [
        "df = pd.read_csv(r'\\Users\\user\\Downloads\\IBM.csv')\n",
        "df #['dt'] = pd.to_datetime(df['Date'])"
      ]
    },
    {
      "cell_type": "code",
      "execution_count": null,
      "metadata": {
        "id": "4b4m7mAWJ8to"
      },
      "outputs": [],
      "source": [
        "df = pd.read_csv('GOOG.csv')\n",
        "df['dt'] = pd.to_datetime(df['Date'])"
      ]
    },
    {
      "cell_type": "code",
      "execution_count": null,
      "metadata": {
        "id": "OTD2qHjjJ8to"
      },
      "outputs": [],
      "source": [
        "df = df[['Date', 'Open', 'High', 'Low', 'Close', 'Volume','dt']]\n",
        "df.columns = ['date', 'open', 'high', 'low', 'close', 'volume','dt']\n"
      ]
    },
    {
      "cell_type": "code",
      "execution_count": null,
      "metadata": {
        "id": "HwVPTM8dJ8to"
      },
      "outputs": [],
      "source": [
        "window = 30\n",
        "train_end_date = datetime.datetime(2019,1,1)\n",
        "train_size = df[df['dt']<train_end_date].index[-1]\n",
        "df = df[df['dt'] < train_end_date]"
      ]
    },
    {
      "cell_type": "code",
      "execution_count": null,
      "metadata": {
        "id": "gSoxljq5J8to"
      },
      "outputs": [],
      "source": [
        "df.sort_values('dt', inplace = True)\n",
        "sc_one = MinMaxScaler()\n",
        "x_norm_one = sc_one.fit_transform(df['close'].values.reshape(-1,1))"
      ]
    },
    {
      "cell_type": "code",
      "execution_count": null,
      "metadata": {
        "id": "Ob5uwBlkJ8to"
      },
      "outputs": [],
      "source": [
        "norm_columns = ['open', 'high', 'low', 'close', 'volume']\n",
        "sc_five = MinMaxScaler()\n",
        "x_norm_five = sc_five.fit_transform(df[norm_columns].values)"
      ]
    },
    {
      "cell_type": "code",
      "execution_count": null,
      "metadata": {
        "id": "1HXsFfz5J8to"
      },
      "outputs": [],
      "source": [
        "model = Sequential()\n",
        "model.add(LSTM(units=50, input_shape= (window,5)))\n",
        "model.add(Dropout(0.2))\n",
        "model.add(Dense(units = 1))\n",
        "model.compile(optimizer = 'adam', loss = 'mean_squared_error')"
      ]
    },
    {
      "cell_type": "code",
      "execution_count": null,
      "metadata": {
        "id": "aKxSAsvgJ8to"
      },
      "outputs": [],
      "source": [
        "train_for_nn = []\n",
        "y_train_for_nn = []\n",
        "for i in range(0,train_size-window):\n",
        "    train_for_nn.append(x_norm_five[i:(i+window),:5])\n",
        "    y_train_for_nn.append(x_norm_five[i+window, 3])\n",
        "train_for_nn = np.array(train_for_nn)\n",
        "y_train_for_nn = np.array(y_train_for_nn)"
      ]
    },
    {
      "cell_type": "code",
      "execution_count": null,
      "metadata": {
        "scrolled": true,
        "id": "WV2SaY7pJ8to"
      },
      "outputs": [],
      "source": [
        "model.fit(train_for_nn, y_train_for_nn, epochs = 100, batch_size = 32)"
      ]
    },
    {
      "cell_type": "code",
      "execution_count": null,
      "metadata": {
        "id": "R9cQm3wXJ8to"
      },
      "outputs": [],
      "source": [
        "df = pd.read_csv('GOOG.csv')\n",
        "\n",
        "df['dt'] = pd.to_datetime(df['Date'])\n",
        "df = df[['Date', 'Open', 'High', 'Low', 'Close', 'Volume','dt']]\n",
        "df.columns = ['date', 'open', 'high', 'low', 'close', 'volume','dt']\n",
        "train_end_date = datetime.datetime(2019,1,1)\n",
        "train_size = df[df['dt']<train_end_date].index[-1]\n",
        "\n",
        "x_norm_five = sc_five.transform(df[norm_columns].values)\n",
        "x_norm_one = sc_one.transform(df['close'].values.reshape(-1,1))"
      ]
    },
    {
      "cell_type": "code",
      "execution_count": null,
      "metadata": {
        "id": "oNOG5MZnJ8to"
      },
      "outputs": [],
      "source": [
        "test_for_nn = []\n",
        "y_test_for_nn = []\n",
        "\n",
        "\n",
        "for i in range(train_size-window, len(x_norm_five)-window):\n",
        "    test_for_nn.append(x_norm_five[i:(i+window),:5])\n",
        "    y_test_for_nn.append(x_norm_five[i+window, 3])\n",
        "    \n",
        "test_for_nn = np.array(test_for_nn)\n",
        "y_test_for_nn = np.array(y_test_for_nn)"
      ]
    },
    {
      "cell_type": "code",
      "execution_count": null,
      "metadata": {
        "id": "npbX7UkyJ8to"
      },
      "outputs": [],
      "source": [
        "norm_prediction = model.predict(test_for_nn)\n",
        "pred = sc_one.inverse_transform(norm_prediction)\n",
        "actual = sc_one.inverse_transform(y_test_for_nn.reshape(-1,1))"
      ]
    },
    {
      "cell_type": "code",
      "execution_count": null,
      "metadata": {
        "scrolled": false,
        "id": "QNnVeygxJ8to"
      },
      "outputs": [],
      "source": [
        "df = pd.DataFrame(pred,columns=['pred'])\n",
        "df['actual'] = actual\n",
        "ax = df.plot(y='pred')\n",
        "df.plot(y='actual',ax=ax,color='red')"
      ]
    },
    {
      "cell_type": "code",
      "execution_count": null,
      "metadata": {
        "id": "k2Vh6g-AJ8tp"
      },
      "outputs": [],
      "source": [
        "squered_error = ((df['actual'] - df['pred'])**2).mean()\n",
        "squered_error ** 0.5\n"
      ]
    },
    {
      "cell_type": "code",
      "execution_count": null,
      "metadata": {
        "scrolled": true,
        "id": "mtkyNYARJ8tp"
      },
      "outputs": [],
      "source": [
        "df"
      ]
    },
    {
      "cell_type": "markdown",
      "metadata": {
        "id": "_uINSqRDJ8tp"
      },
      "source": [
        "כאינדיקטור LSTM יצירת קובץ עם"
      ]
    },
    {
      "cell_type": "markdown",
      "metadata": {
        "id": "bNqqrXsSJ8tp"
      },
      "source": [
        "שמירה וקריאה של הקובץ"
      ]
    },
    {
      "cell_type": "markdown",
      "metadata": {
        "id": "bGVezdZ6J8tp"
      },
      "source": [
        "results = pd.DataFrame(pred,columns=['pred'])\n",
        "results['actual'] = actual\n",
        "ax = results.plot(y='pred')\n",
        "results.plot(y='actual',ax=ax,color='red')"
      ]
    },
    {
      "cell_type": "markdown",
      "metadata": {
        "id": "aw5d5FvqJ8tp"
      },
      "source": [
        "squered_error = ((results['actual'] - results['pred'])**2).mean()\n",
        "squered_error ** 0.5"
      ]
    },
    {
      "cell_type": "code",
      "execution_count": null,
      "metadata": {
        "id": "_cUPlneFJ8tp"
      },
      "outputs": [],
      "source": [
        "df[df['pred'] == results['actual'][1]]"
      ]
    },
    {
      "cell_type": "code",
      "execution_count": null,
      "metadata": {
        "id": "kaQ3OTneJ8tp"
      },
      "outputs": [],
      "source": [
        "results.index = results.index + (window - 1)"
      ]
    },
    {
      "cell_type": "code",
      "execution_count": null,
      "metadata": {
        "id": "n2bUsnnlJ8tp"
      },
      "outputs": [],
      "source": [
        "df['actual'] = results['actual']\n",
        "df['pred'] = results['pred']\n",
        "df = df.fillna('0')\n",
        "# df['date'] = pd.to_datetime(df['date'])\n",
        "# df.set_index('date',inplace=True)"
      ]
    },
    {
      "cell_type": "code",
      "execution_count": null,
      "metadata": {
        "id": "g1o_l9hiJ8tp"
      },
      "outputs": [],
      "source": [
        "df"
      ]
    },
    {
      "cell_type": "markdown",
      "metadata": {
        "id": "pcaTcySNJ8tp"
      },
      "source": [
        "df[['open','high','low','close','volume','pred']].to_csv('GOOG_LSTM_5FT_1D.csv')"
      ]
    },
    {
      "cell_type": "markdown",
      "metadata": {
        "id": "Fsuu86jjJ8tp"
      },
      "source": [
        "קוד מקור קריאה"
      ]
    },
    {
      "cell_type": "code",
      "execution_count": null,
      "metadata": {
        "id": "P1-XxDM1J8tp"
      },
      "outputs": [],
      "source": [
        "from datetime import datetime\n",
        "import backtrader as bt\n",
        "import pandas as pd\n",
        "import yfinance as yf\n",
        "import matplotlib.pyplot as plt\n",
        "\n",
        "%matplotlib inline"
      ]
    },
    {
      "cell_type": "code",
      "execution_count": null,
      "metadata": {
        "id": "zEQAHOx3J8tp"
      },
      "outputs": [],
      "source": [
        "stock = 'GOOG'\n",
        "contract = yf.Ticker(stock)\n",
        "contract_history = contract.history(start ='2010-01-01',end='2020-06-01',  interval='1d')\n",
        "contract_history.to_csv(stock + '.csv')\n",
        "contract_history = pd.read_csv(stock + '.csv')\n",
        "contract_history['dt'] = pd.to_datetime(contract_history['Date'])\n",
        "contract_history = contract_history.set_index('dt')"
      ]
    },
    {
      "cell_type": "code",
      "execution_count": null,
      "metadata": {
        "id": "UaWfGw1dJ8tp"
      },
      "outputs": [],
      "source": [
        "start_date = datetime(2019, 1, 1)\n",
        "end_date = datetime(2020, 1, 1)\n",
        "start_cash = 100000"
      ]
    },
    {
      "cell_type": "code",
      "execution_count": null,
      "metadata": {
        "id": "om0bSx4uJ8tp"
      },
      "outputs": [],
      "source": [
        "#Params\n",
        "\n",
        "class LSTM_Ind(bt.SignalStrategy):\n",
        "    def __init__(self):\n",
        "        pass\n",
        "\n",
        "    def start(self):\n",
        "        pass\n",
        "\n",
        "    \n",
        "    def next(self):\n",
        "        diff = self.data.lstm_prediction[0] - self.data.close[0]\n",
        "    def stop(self):\n",
        "        pass \n",
        "#         print('End')\n",
        "        \n",
        "    def notify_order(self, order):\n",
        "        if order.status in [order.Completed]:\n",
        "            if order.isbuy():\n",
        "                pass\n",
        "            else:  # Sell\n",
        "                pass"
      ]
    },
    {
      "cell_type": "markdown",
      "metadata": {
        "id": "Hs4fkHsWJ8tp"
      },
      "source": [
        "cerebro = bt.Cerebro()\n",
        "cerebro.addstrategy(LSTM_Ind)\n",
        "cerebro.addsizer(bt.sizers.PercentSizer, percents = 90)\n",
        "cerebro.addwriter(bt.WriterFile,out='temp.csv' ,csv=True)\n",
        "cerebro.broker.setcash(start_cash)\n",
        "\n",
        "class GenericCSV(bt.feeds.GenericCSVData):\n",
        "    \n",
        "    lines = ('lstm_prediction',)\n",
        "    params = (('nullvalue', float('NaN')),\n",
        "              ('fromdate', start_date),\n",
        "              ('todate', end_date),\n",
        "              ('dtformat', '%Y-%m-%d'),\n",
        "              ('lstm_prediction', 6)\n",
        "             )\n",
        "\n",
        "data = GenericCSV(dataname=\"GOOG_LSTM_5FT_1D.csv\")\n",
        "cerebro.adddata(data)\n",
        "\n",
        "print('Start value {:,.0f} At {}'.format(start_cash,start_date))\n",
        "cerebro.run()\n",
        "current_value = cerebro.getbroker().get_value()\n",
        "print('End value: {:,.0f} At: {}\\nChange in %: {:.2f}'.format(current_value,end_date,100*(current_value - start_cash)/start_cash))"
      ]
    },
    {
      "cell_type": "code",
      "execution_count": null,
      "metadata": {
        "scrolled": true,
        "id": "fXApA6pAJ8tp"
      },
      "outputs": [],
      "source": [
        "cerebro = bt.Cerebro()\n",
        "cerebro.addstrategy(LSTM_Ind)\n",
        "cerebro.addsizer(bt.sizers.PercentSizer, percents = 90)\n",
        "cerebro.addwriter(bt.WriterFile,out='temp.csv' ,csv=True)\n",
        "cerebro.broker.setcash(start_cash)\n",
        "\n",
        "class GenericCSV(bt.feeds.GenericCSVData):\n",
        "    \n",
        "    lines = ('lstm_prediction',)\n",
        "    params = (('nullvalue', float('NaN')),\n",
        "              ('fromdate', start_date),\n",
        "              ('todate', end_date),\n",
        "              ('dtformat', '%Y-%m-%d'),\n",
        "              ('lstm_prediction', 6)\n",
        "             )\n",
        "\n",
        "data = GenericCSV(dataname=\"GOOG.csv\")\n",
        "cerebro.adddata(data)\n",
        "\n",
        "print('Start value {:,.0f} At {}'.format(start_cash,start_date))\n",
        "cerebro.run()\n",
        "current_value = cerebro.getbroker().get_value()\n",
        "print('End value: {:,.0f} At: {}\\nChange in %: {:.2f}'.format(current_value,end_date,100*(current_value - start_cash)/start_cash))"
      ]
    },
    {
      "cell_type": "code",
      "execution_count": null,
      "metadata": {
        "scrolled": true,
        "id": "4YFD3o01J8tq"
      },
      "outputs": [],
      "source": [
        "cerebro.plot()"
      ]
    },
    {
      "cell_type": "markdown",
      "metadata": {
        "id": "P0s5zqCJJ8tq"
      },
      "source": [
        "class TradingAlgorithm:\n",
        "    def __init__(self):\n",
        "        self.position = None\n",
        "        self.data = None\n",
        "        \n",
        "    def run(self):\n",
        "        diff = self.data.lstm_prediction[0] - self.data.close[0]\n",
        "        if self.position.size == 0:\n",
        "            if diff > 10:\n",
        "                self.buy()\n",
        "        elif self.position.size != 0:\n",
        "            if diff < -30:\n",
        "                self.sell()\n"
      ]
    },
    {
      "cell_type": "code",
      "execution_count": null,
      "metadata": {
        "id": "3Qq7_xZnJ8tq"
      },
      "outputs": [],
      "source": [
        "class TradingAlgorithm:\n",
        "    def __init__(self):\n",
        "        self.position = None\n",
        "        self.data = None\n",
        "        \n",
        "    def run(self):\n",
        "        diff = self.data.lstm_prediction[0] - self.data.close[0]\n",
        "        if self.position.size == 0:\n",
        "            if diff > 10:\n",
        "                self.buy()\n",
        "        elif self.position.size != 0:\n",
        "            if diff < -30:\n",
        "                self.sell()\n"
      ]
    },
    {
      "cell_type": "markdown",
      "metadata": {
        "id": "DBTYwd-1J8tq"
      },
      "source": [
        "הגעתה ליעד !! אלגוריתיים מנצח"
      ]
    },
    {
      "cell_type": "code",
      "execution_count": null,
      "metadata": {
        "id": "HyEBVELPJ8tq"
      },
      "outputs": [],
      "source": [
        "import math\n",
        "import matplotlib.pyplot as plt\n",
        "import keras\n",
        "import pandas as pd\n",
        "import numpy as np\n",
        "from keras.models import Sequential\n",
        "from keras.layers import Dense\n",
        "from keras.layers import LSTM\n",
        "from keras.layers import Dropout\n",
        "from sklearn.preprocessing import MinMaxScaler\n",
        "from sklearn.metrics import mean_squared_error\n",
        "from sklearn.model_selection import train_test_split\n",
        "from keras.callbacks import EarlyStopping"
      ]
    },
    {
      "cell_type": "code",
      "execution_count": null,
      "metadata": {
        "scrolled": true,
        "id": "vLA_yLYYJ8tq"
      },
      "outputs": [],
      "source": [
        "df = pd.read_csv(r'\\Users\\user\\Downloads\\all_stocks_5yr.csv')\n",
        "df = df[df['Name'] == 'MSFT']"
      ]
    },
    {
      "cell_type": "code",
      "execution_count": null,
      "metadata": {
        "id": "XQOU12W_J8tq"
      },
      "outputs": [],
      "source": [
        "train = df['close'].iloc[:1000]\n",
        "test = df['close'].iloc[1000:]"
      ]
    },
    {
      "cell_type": "code",
      "execution_count": null,
      "metadata": {
        "id": "SMXrXzYYJ8tq"
      },
      "outputs": [],
      "source": [
        "shift = train.min()\n",
        "scale = (train - shift).max()\n",
        "(train - shift) / scale"
      ]
    },
    {
      "cell_type": "code",
      "execution_count": null,
      "metadata": {
        "id": "eTp-Jq-WJ8tq"
      },
      "outputs": [],
      "source": [
        "sc = MinMaxScaler()\n",
        "norm_train = sc.fit_transform(train.values.reshape(-1,1))\n",
        "\n",
        "window = 100\n",
        "train_size = 1000\n",
        "\n",
        "\n",
        "train_for_nn = []\n",
        "y_train_for_nn = []\n",
        "for i in range(0,train_size-window):\n",
        "    train_for_nn.append(norm_train[i:(i+window)])\n",
        "    y_train_for_nn.append(norm_train[i+window])\n",
        "train_for_nn = np.array(train_for_nn)\n",
        "y_train_for_nn = np.array(y_train_for_nn)"
      ]
    },
    {
      "cell_type": "code",
      "execution_count": null,
      "metadata": {
        "id": "Mu7BVoLdJ8tq"
      },
      "outputs": [],
      "source": [
        "model = Sequential()\n",
        "model.add(LSTM(units=50, input_shape= (window, 1)))\n",
        "model.add(Dropout(0.2))\n",
        "model.add(Dense(units = 1))\n",
        "model.compile(optimizer = 'adam', loss = 'mean_squared_error')\n",
        "\n",
        "model.fit(train_for_nn, y_train_for_nn, epochs = 200, batch_size = 32)\n"
      ]
    },
    {
      "cell_type": "code",
      "execution_count": null,
      "metadata": {
        "id": "5-Pn5E4VJ8tq"
      },
      "outputs": [],
      "source": [
        "pred_norm = model.predict(train_for_nn)\n",
        "pred = sc.inverse_transform(pred_norm)"
      ]
    },
    {
      "cell_type": "code",
      "execution_count": null,
      "metadata": {
        "id": "yX2qieVTJ8tq"
      },
      "outputs": [],
      "source": [
        "ax = plt.plot(pred,color='red')\n",
        "ax = plt.plot(sc.inverse_transform(y_train_for_nn),color='blue')"
      ]
    },
    {
      "cell_type": "code",
      "execution_count": null,
      "metadata": {
        "id": "Fc8ViSigJ8tq"
      },
      "outputs": [],
      "source": [
        "sc = MinMaxScaler()\n",
        "norm_test = sc.fit_transform(test.values.reshape(-1,1))\n",
        "\n",
        "window = 100\n",
        "test_size = norm_test.shape[0]\n",
        "\n",
        "\n",
        "test_for_nn = []\n",
        "y_test_for_nn = []\n",
        "for i in range(0,test_size-window):\n",
        "    test_for_nn.append(norm_test[i:(i+window)])\n",
        "    y_test_for_nn.append(norm_test[i+window])\n",
        "test_for_nn = np.array(test_for_nn)\n",
        "y_test_for_nn = np.array(y_test_for_nn)"
      ]
    },
    {
      "cell_type": "code",
      "execution_count": null,
      "metadata": {
        "id": "MP7vg5mcJ8tq"
      },
      "outputs": [],
      "source": [
        "test_pred_norm = model.predict(test_for_nn)\n",
        "test_pred = sc.inverse_transform(test_pred_norm)\n",
        "ax = plt.plot(test_pred,color='red')\n",
        "ax = plt.plot(sc.inverse_transform(y_test_for_nn),color='blue')"
      ]
    },
    {
      "cell_type": "code",
      "execution_count": null,
      "metadata": {
        "id": "Ao_jdbcZJ8tq"
      },
      "outputs": [],
      "source": []
    },
    {
      "cell_type": "code",
      "execution_count": null,
      "metadata": {
        "id": "sHPHX-eVJ8tq"
      },
      "outputs": [],
      "source": []
    },
    {
      "cell_type": "code",
      "execution_count": null,
      "metadata": {
        "id": "KV_VcwpVJ8tq"
      },
      "outputs": [],
      "source": [
        "print(__doc__)\n",
        "\n",
        "import numpy as np\n",
        "import matplotlib.pyplot as plt\n",
        "from sklearn import svm, datasets\n",
        "\n",
        "# import some data to play with\n",
        "iris = datasets.load_iris()\n",
        "X = iris.data[:, :2]  # we only take the first two features. We could\n",
        "                      # avoid this ugly slicing by using a two-dim dataset\n",
        "y = iris.target\n",
        "\n",
        "h = .02  # step size in the mesh\n",
        "test_pred_norm = model.predict(test_for_nn)\n",
        "test_pred = sc.inverse_transform(test_pred_norm)\n",
        "ax = plt.plot(test_pred,color='red')\n",
        "ax = plt.plot(sc.inverse_transform(y_test_for_nn),color='blue')\n",
        "# we create an instance of SVM and fit out data. We do not scale our\n",
        "# data since we want to plot the support vectors\n",
        "C = 1.0  # SVM regularization parameter\n",
        "svc = svm.SVC(kernel='linear', C=C).fit(X, y)\n",
        "rbf_svc = svm.SVC(kernel='rbf', gamma=0.7, C=C).fit(X, y)\n",
        "poly_svc = svm.SVC(kernel='poly', degree=3, C=C).fit(X, y)\n",
        "lin_svc = svm.LinearSVC(C=C).fit(X, y)\n",
        "\n",
        "# create a mesh to plot in\n",
        "x_min, x_max = X[:, 0].min() - 1, X[:, 0].max() + 1\n",
        "y_min, y_max = X[:, 1].min() - 1, X[:, 1].max() + 1\n",
        "xx, yy = np.meshgrid(np.arange(x_min, x_max, h),\n",
        "                     np.arange(y_min, y_max, h))\n",
        "\n",
        "# title for the plots\n",
        "titles = ['SVC with linear kernel',\n",
        "          'LinearSVC (linear kernel)',\n",
        "          'SVC with RBF kernel',\n",
        "          'SVC with polynomial (degree 3) kernel']\n",
        "\n",
        "\n",
        "for i, clf in enumerate((svc, lin_svc, rbf_svc, poly_svc)):\n",
        "    # Plot the decision boundary. For that, we will assign a color to each\n",
        "    # point in the mesh [x_min, x_max]x[y_min, y_max].\n",
        "    plt.subplot(2, 2, i + 1)\n",
        "    plt.subplots_adjust(wspace=0.4, hspace=0.4)\n",
        "\n",
        "    Z = clf.predict(np.c_[xx.ravel(), yy.ravel()])\n",
        "\n",
        "    # Put the result into a color plot\n",
        "    Z = Z.reshape(xx.shape)\n",
        "    plt.contourf(xx, yy, Z, cmap=plt.cm.coolwarm, alpha=0.8)\n",
        "\n",
        "    # Plot also the training points\n",
        "    plt.scatter(X[:, 0], X[:, 1], c=y, cmap=plt.cm.coolwarm)\n",
        "    plt.xlabel('Sepal length')\n",
        "    plt.ylabel('Sepal width')\n",
        "    plt.xlim(xx.min(), xx.max())\n",
        "    plt.ylim(yy.min(), yy.max())\n",
        "    plt.xticks(())\n",
        "    plt.yticks(())\n",
        "    plt.title(titles[i])\n",
        "test_pred_norm = model.predict(test_for_nn)\n",
        "test_pred = sc.inverse_transform(test_pred_norm)\n",
        "ax = plt.plot(test_pred,color='red')\n",
        "ax = plt.plot(sc.inverse_transform(y_test_for_nn),color='blue')\n",
        "plt.show()"
      ]
    },
    {
      "cell_type": "code",
      "execution_count": null,
      "metadata": {
        "id": "m0b3s6jNJ8tq"
      },
      "outputs": [],
      "source": []
    },
    {
      "cell_type": "code",
      "execution_count": null,
      "metadata": {
        "id": "2ndgku1VJ8tq"
      },
      "outputs": [],
      "source": []
    },
    {
      "cell_type": "code",
      "source": [],
      "metadata": {
        "id": "8dqJoJ1AeJaH"
      },
      "execution_count": null,
      "outputs": []
    },
    {
      "cell_type": "markdown",
      "source": [
        "**אסטרטגיה בסיסית שבה אתה יכול להשתמש כנקודת התחלה למסחר בקריפטו:**"
      ],
      "metadata": {
        "id": "GXxI7JqUeQVm"
      }
    },
    {
      "cell_type": "markdown",
      "source": [
        "אסטרטגיה זו משתמ שת בבורסת Binance ובצמד המסחר BTC/USDT. הוא מחשב ממוצע נע של 20 תקופות על נרות של שעה אחת וקונה כאשר המחיר הוא מעל הממוצע הנע ומוכר כאשר המחיר נמוך מהממוצע הנע. הוא משתמש בסכום סחר קבוע של 100 USDT עבור כל סחר. התסריט פועל בלולאה אינסופית ומחכה לנר הבא לפני ביצוע העסקה הבאה."
      ],
      "metadata": {
        "id": "oaYWpy3meWOV"
      }
    },
    {
      "cell_type": "code",
      "source": [
        "# pip install ccxt"
      ],
      "metadata": {
        "id": "xlsvt7zheebW"
      },
      "execution_count": 1,
      "outputs": []
    },
    {
      "cell_type": "code",
      "source": [
        "#@title Default title text\n",
        "import ccxt\n",
        "import time\n",
        "\n",
        "# Define the exchange and trading pair\n",
        "exchange = ccxt.binance()\n",
        "symbol = 'BTC/USDT'\n",
        "\n",
        "# Set the time interval for the candles\n",
        "timeframe = '1h'\n",
        "\n",
        "# Set the number of candles to use for the moving average\n",
        "ma_period = 20\n",
        "\n",
        "# Set the amount of USDT to use for each trade\n",
        "trade_amount = 100\n",
        "\n",
        "# Define the function to calculate the moving average\n",
        "def calculate_ma():\n",
        "    candles = exchange.fetch_ohlcv(symbol, timeframe)\n",
        "    closes = [candle[4] for candle in candles]\n",
        "    ma = sum(closes[-ma_period:]) / ma_period\n",
        "    return ma\n",
        "\n",
        "# Define the main trading loop\n",
        "while True:\n",
        "    # Calculate the moving average\n",
        "    ma = calculate_ma()\n",
        "\n",
        "    # Get the current price\n",
        "    ticker = exchange.fetch_ticker(symbol)\n",
        "    price = ticker['last']\n",
        "\n",
        "    # Check if the price is above the moving average\n",
        "    if price > ma:\n",
        "        # Buy using the specified amount\n",
        "        order = exchange.create_market_buy_order(symbol, trade_amount)\n",
        "        print('Bought', order['amount'], 'at', order['price'])\n",
        "    else:\n",
        "        # Sell using the entire balance\n",
        "        balance = exchange.fetch_balance()['USDT']['free']\n",
        "        order = exchange.create_market_sell_order(symbol, balance)\n",
        "        print('Sold', order['amount'], 'at', order['price'])\n",
        "\n",
        "    # Wait for the next candle\n",
        "    time.sleep(exchange.parse_timeframe(timeframe) / 1000)"
      ],
      "metadata": {
        "cellView": "form",
        "id": "rgDVYIpzXI7a"
      },
      "execution_count": null,
      "outputs": []
    },
    {
      "cell_type": "markdown",
      "source": [
        "https://www.tradinformed.com/a-simple-rsi-mean-reversion-strategy/"
      ],
      "metadata": {
        "id": "WmxB8ElhXFog"
      }
    }
  ],
  "metadata": {
    "kernelspec": {
      "display_name": "Python 3 (ipykernel)",
      "language": "python",
      "name": "python3"
    },
    "language_info": {
      "codemirror_mode": {
        "name": "ipython",
        "version": 3
      },
      "file_extension": ".py",
      "mimetype": "text/x-python",
      "name": "python",
      "nbconvert_exporter": "python",
      "pygments_lexer": "ipython3",
      "version": "3.10.2"
    },
    "colab": {
      "provenance": [],
      "include_colab_link": true
    }
  },
  "nbformat": 4,
  "nbformat_minor": 0
}